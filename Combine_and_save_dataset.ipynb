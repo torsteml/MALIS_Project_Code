{
 "cells": [
  {
   "cell_type": "markdown",
   "metadata": {},
   "source": [
    "# Import packages"
   ]
  },
  {
   "cell_type": "code",
   "execution_count": 1,
   "metadata": {
    "ExecuteTime": {
     "end_time": "2019-10-31T14:46:03.336277Z",
     "start_time": "2019-10-31T14:46:01.731749Z"
    }
   },
   "outputs": [],
   "source": [
    "import seaborn as sns\n",
    "import numpy as np\n",
    "import pandas as pd"
   ]
  },
  {
   "cell_type": "code",
   "execution_count": 2,
   "metadata": {},
   "outputs": [
    {
     "name": "stdout",
     "output_type": "stream",
     "text": [
      "/usr/bin/python\r\n",
      "Python 2.7.17\r\n"
     ]
    }
   ],
   "source": [
    "!which python; python -V;"
   ]
  },
  {
   "cell_type": "markdown",
   "metadata": {},
   "source": [
    "# Load dataset"
   ]
  },
  {
   "cell_type": "code",
   "execution_count": 3,
   "metadata": {},
   "outputs": [],
   "source": [
    "movies_dataframe = pd.read_csv('../dataset/movies_with_features.csv', index_col='Id', encoding='utf-8')\n",
    "movies_dataframe.head(10)\n",
    "movies_dataframe = movies_dataframe.head(4000)"
   ]
  },
  {
   "cell_type": "code",
   "execution_count": 4,
   "metadata": {},
   "outputs": [],
   "source": [
    "def getRatingsPathFromMovieID(id):\n",
    "    basepath = '../dataset/training_set/mv_'\n",
    "    fileEnding = '.txt'\n",
    "    if(id<10):\n",
    "        return basepath + '000000' + str(id) + fileEnding\n",
    "    elif(id>=10 and id<100):\n",
    "        return basepath + '00000' + str(id) + fileEnding\n",
    "    elif(id>=100 and id<1000):\n",
    "        return basepath + '0000' + str(id) + fileEnding\n",
    "    elif(id>=1000 and id<10000):\n",
    "        return basepath + '000' + str(id) + fileEnding\n",
    "    elif(id>=10000 and id<100000):\n",
    "        return basepath + '00' + str(id) + fileEnding\n",
    "    else:\n",
    "        return -1"
   ]
  },
  {
   "cell_type": "code",
   "execution_count": 5,
   "metadata": {},
   "outputs": [],
   "source": [
    "movie_rankings = list()\n",
    "for i in range(1,len(movies_dataframe.index)+1):\n",
    "    path = getRatingsPathFromMovieID(i)\n",
    "    try:\n",
    "        movie_rankings.append(pd.read_csv(path, skiprows=[0], header=None))\n",
    "        movie_rankings[i-1].columns = ['CustomerID', 'Rating', 'Date']\n",
    "        movie_rankings[i-1]['MovieID'] = i\n",
    "        #print('Read rankings for MovieID: ',str(i),'/',str(len(movies_dataframe.index)))\n",
    "    except:\n",
    "        print('Could not read txt file: ', path)"
   ]
  },
  {
   "cell_type": "code",
   "execution_count": 6,
   "metadata": {},
   "outputs": [
    {
     "data": {
      "text/html": [
       "<div>\n",
       "<style scoped>\n",
       "    .dataframe tbody tr th:only-of-type {\n",
       "        vertical-align: middle;\n",
       "    }\n",
       "\n",
       "    .dataframe tbody tr th {\n",
       "        vertical-align: top;\n",
       "    }\n",
       "\n",
       "    .dataframe thead th {\n",
       "        text-align: right;\n",
       "    }\n",
       "</style>\n",
       "<table border=\"1\" class=\"dataframe\">\n",
       "  <thead>\n",
       "    <tr style=\"text-align: right;\">\n",
       "      <th></th>\n",
       "      <th>CustomerID</th>\n",
       "      <th>Rating</th>\n",
       "      <th>Date</th>\n",
       "      <th>MovieID</th>\n",
       "    </tr>\n",
       "  </thead>\n",
       "  <tbody>\n",
       "    <tr>\n",
       "      <th>0</th>\n",
       "      <td>951709</td>\n",
       "      <td>2</td>\n",
       "      <td>2001-11-04</td>\n",
       "      <td>7</td>\n",
       "    </tr>\n",
       "    <tr>\n",
       "      <th>1</th>\n",
       "      <td>585247</td>\n",
       "      <td>1</td>\n",
       "      <td>2003-12-19</td>\n",
       "      <td>7</td>\n",
       "    </tr>\n",
       "    <tr>\n",
       "      <th>2</th>\n",
       "      <td>2625420</td>\n",
       "      <td>2</td>\n",
       "      <td>2004-06-03</td>\n",
       "      <td>7</td>\n",
       "    </tr>\n",
       "    <tr>\n",
       "      <th>3</th>\n",
       "      <td>2322468</td>\n",
       "      <td>3</td>\n",
       "      <td>2003-11-12</td>\n",
       "      <td>7</td>\n",
       "    </tr>\n",
       "    <tr>\n",
       "      <th>4</th>\n",
       "      <td>2056324</td>\n",
       "      <td>2</td>\n",
       "      <td>2002-11-10</td>\n",
       "      <td>7</td>\n",
       "    </tr>\n",
       "    <tr>\n",
       "      <th>...</th>\n",
       "      <td>...</td>\n",
       "      <td>...</td>\n",
       "      <td>...</td>\n",
       "      <td>...</td>\n",
       "    </tr>\n",
       "    <tr>\n",
       "      <th>88</th>\n",
       "      <td>1712385</td>\n",
       "      <td>2</td>\n",
       "      <td>2005-09-14</td>\n",
       "      <td>7</td>\n",
       "    </tr>\n",
       "    <tr>\n",
       "      <th>89</th>\n",
       "      <td>1666693</td>\n",
       "      <td>1</td>\n",
       "      <td>2001-09-08</td>\n",
       "      <td>7</td>\n",
       "    </tr>\n",
       "    <tr>\n",
       "      <th>90</th>\n",
       "      <td>1494385</td>\n",
       "      <td>4</td>\n",
       "      <td>2002-02-03</td>\n",
       "      <td>7</td>\n",
       "    </tr>\n",
       "    <tr>\n",
       "      <th>91</th>\n",
       "      <td>2297901</td>\n",
       "      <td>2</td>\n",
       "      <td>2003-10-28</td>\n",
       "      <td>7</td>\n",
       "    </tr>\n",
       "    <tr>\n",
       "      <th>92</th>\n",
       "      <td>632057</td>\n",
       "      <td>2</td>\n",
       "      <td>2002-09-16</td>\n",
       "      <td>7</td>\n",
       "    </tr>\n",
       "  </tbody>\n",
       "</table>\n",
       "<p>93 rows × 4 columns</p>\n",
       "</div>"
      ],
      "text/plain": [
       "    CustomerID  Rating        Date  MovieID\n",
       "0       951709       2  2001-11-04        7\n",
       "1       585247       1  2003-12-19        7\n",
       "2      2625420       2  2004-06-03        7\n",
       "3      2322468       3  2003-11-12        7\n",
       "4      2056324       2  2002-11-10        7\n",
       "..         ...     ...         ...      ...\n",
       "88     1712385       2  2005-09-14        7\n",
       "89     1666693       1  2001-09-08        7\n",
       "90     1494385       4  2002-02-03        7\n",
       "91     2297901       2  2003-10-28        7\n",
       "92      632057       2  2002-09-16        7\n",
       "\n",
       "[93 rows x 4 columns]"
      ]
     },
     "execution_count": 6,
     "metadata": {},
     "output_type": "execute_result"
    }
   ],
   "source": [
    "movie_rankings[6]"
   ]
  },
  {
   "cell_type": "code",
   "execution_count": 7,
   "metadata": {},
   "outputs": [
    {
     "name": "stdout",
     "output_type": "stream",
     "text": [
      "(4000, 7)\n",
      "(3775, 7)\n"
     ]
    }
   ],
   "source": [
    "#Remove movies with fewer than 100 rankings\n",
    "print(movies_dataframe.shape)\n",
    "for i in range(0,len(movie_rankings)):\n",
    "    if(len(movie_rankings[i])<100):\n",
    "        movies_dataframe = movies_dataframe.drop(i)\n",
    "print(movies_dataframe.shape)"
   ]
  },
  {
   "cell_type": "code",
   "execution_count": 8,
   "metadata": {},
   "outputs": [
    {
     "data": {
      "text/html": [
       "<div>\n",
       "<style scoped>\n",
       "    .dataframe tbody tr th:only-of-type {\n",
       "        vertical-align: middle;\n",
       "    }\n",
       "\n",
       "    .dataframe tbody tr th {\n",
       "        vertical-align: top;\n",
       "    }\n",
       "\n",
       "    .dataframe thead th {\n",
       "        text-align: right;\n",
       "    }\n",
       "</style>\n",
       "<table border=\"1\" class=\"dataframe\">\n",
       "  <thead>\n",
       "    <tr style=\"text-align: right;\">\n",
       "      <th></th>\n",
       "      <th>MovieID</th>\n",
       "      <th>YearOfRelease</th>\n",
       "      <th>Title</th>\n",
       "      <th>Budget</th>\n",
       "      <th>Genre</th>\n",
       "      <th>Original_language</th>\n",
       "      <th>Runtime</th>\n",
       "    </tr>\n",
       "    <tr>\n",
       "      <th>Id</th>\n",
       "      <th></th>\n",
       "      <th></th>\n",
       "      <th></th>\n",
       "      <th></th>\n",
       "      <th></th>\n",
       "      <th></th>\n",
       "      <th></th>\n",
       "    </tr>\n",
       "  </thead>\n",
       "  <tbody>\n",
       "    <tr>\n",
       "      <th>0</th>\n",
       "      <td>1</td>\n",
       "      <td>2003.0</td>\n",
       "      <td>Dinosaur Planet</td>\n",
       "      <td>0</td>\n",
       "      <td>NaN</td>\n",
       "      <td>NaN</td>\n",
       "      <td>0.0</td>\n",
       "    </tr>\n",
       "    <tr>\n",
       "      <th>1</th>\n",
       "      <td>2</td>\n",
       "      <td>2004.0</td>\n",
       "      <td>Isle of Man TT 2004 Review</td>\n",
       "      <td>0</td>\n",
       "      <td>NaN</td>\n",
       "      <td>NaN</td>\n",
       "      <td>0.0</td>\n",
       "    </tr>\n",
       "    <tr>\n",
       "      <th>2</th>\n",
       "      <td>3</td>\n",
       "      <td>1997.0</td>\n",
       "      <td>Character</td>\n",
       "      <td>4500000</td>\n",
       "      <td>History</td>\n",
       "      <td>nl</td>\n",
       "      <td>122.0</td>\n",
       "    </tr>\n",
       "    <tr>\n",
       "      <th>3</th>\n",
       "      <td>4</td>\n",
       "      <td>1994.0</td>\n",
       "      <td>Paula Abdul's Get Up &amp; Dance</td>\n",
       "      <td>0</td>\n",
       "      <td>NaN</td>\n",
       "      <td>NaN</td>\n",
       "      <td>0.0</td>\n",
       "    </tr>\n",
       "    <tr>\n",
       "      <th>4</th>\n",
       "      <td>5</td>\n",
       "      <td>2004.0</td>\n",
       "      <td>The Rise and Fall of ECW</td>\n",
       "      <td>0</td>\n",
       "      <td>NaN</td>\n",
       "      <td>NaN</td>\n",
       "      <td>0.0</td>\n",
       "    </tr>\n",
       "    <tr>\n",
       "      <th>5</th>\n",
       "      <td>6</td>\n",
       "      <td>1997.0</td>\n",
       "      <td>Sick</td>\n",
       "      <td>0</td>\n",
       "      <td>NaN</td>\n",
       "      <td>NaN</td>\n",
       "      <td>0.0</td>\n",
       "    </tr>\n",
       "    <tr>\n",
       "      <th>7</th>\n",
       "      <td>8</td>\n",
       "      <td>2004.0</td>\n",
       "      <td>What the #$*! Do We Know!?</td>\n",
       "      <td>0</td>\n",
       "      <td>Documentary</td>\n",
       "      <td>en</td>\n",
       "      <td>109.0</td>\n",
       "    </tr>\n",
       "    <tr>\n",
       "      <th>9</th>\n",
       "      <td>10</td>\n",
       "      <td>2001.0</td>\n",
       "      <td>Fighter</td>\n",
       "      <td>0</td>\n",
       "      <td>NaN</td>\n",
       "      <td>NaN</td>\n",
       "      <td>0.0</td>\n",
       "    </tr>\n",
       "    <tr>\n",
       "      <th>10</th>\n",
       "      <td>11</td>\n",
       "      <td>1999.0</td>\n",
       "      <td>Full Frame: Documentary Shorts</td>\n",
       "      <td>0</td>\n",
       "      <td>NaN</td>\n",
       "      <td>NaN</td>\n",
       "      <td>0.0</td>\n",
       "    </tr>\n",
       "    <tr>\n",
       "      <th>11</th>\n",
       "      <td>12</td>\n",
       "      <td>1947.0</td>\n",
       "      <td>My Favorite Brunette</td>\n",
       "      <td>0</td>\n",
       "      <td>Comedy</td>\n",
       "      <td>en</td>\n",
       "      <td>87.0</td>\n",
       "    </tr>\n",
       "  </tbody>\n",
       "</table>\n",
       "</div>"
      ],
      "text/plain": [
       "    MovieID  YearOfRelease                           Title   Budget  \\\n",
       "Id                                                                    \n",
       "0         1         2003.0                 Dinosaur Planet        0   \n",
       "1         2         2004.0      Isle of Man TT 2004 Review        0   \n",
       "2         3         1997.0                       Character  4500000   \n",
       "3         4         1994.0    Paula Abdul's Get Up & Dance        0   \n",
       "4         5         2004.0        The Rise and Fall of ECW        0   \n",
       "5         6         1997.0                            Sick        0   \n",
       "7         8         2004.0      What the #$*! Do We Know!?        0   \n",
       "9        10         2001.0                         Fighter        0   \n",
       "10       11         1999.0  Full Frame: Documentary Shorts        0   \n",
       "11       12         1947.0            My Favorite Brunette        0   \n",
       "\n",
       "          Genre Original_language  Runtime  \n",
       "Id                                          \n",
       "0           NaN               NaN      0.0  \n",
       "1           NaN               NaN      0.0  \n",
       "2       History                nl    122.0  \n",
       "3           NaN               NaN      0.0  \n",
       "4           NaN               NaN      0.0  \n",
       "5           NaN               NaN      0.0  \n",
       "7   Documentary                en    109.0  \n",
       "9           NaN               NaN      0.0  \n",
       "10          NaN               NaN      0.0  \n",
       "11       Comedy                en     87.0  "
      ]
     },
     "execution_count": 8,
     "metadata": {},
     "output_type": "execute_result"
    }
   ],
   "source": [
    "movies_dataframe.head(10)"
   ]
  },
  {
   "cell_type": "code",
   "execution_count": 9,
   "metadata": {},
   "outputs": [
    {
     "data": {
      "text/html": [
       "<div>\n",
       "<style scoped>\n",
       "    .dataframe tbody tr th:only-of-type {\n",
       "        vertical-align: middle;\n",
       "    }\n",
       "\n",
       "    .dataframe tbody tr th {\n",
       "        vertical-align: top;\n",
       "    }\n",
       "\n",
       "    .dataframe thead th {\n",
       "        text-align: right;\n",
       "    }\n",
       "</style>\n",
       "<table border=\"1\" class=\"dataframe\">\n",
       "  <thead>\n",
       "    <tr style=\"text-align: right;\">\n",
       "      <th></th>\n",
       "      <th>CustomerID</th>\n",
       "      <th>Rating</th>\n",
       "      <th>Date</th>\n",
       "      <th>MovieID</th>\n",
       "    </tr>\n",
       "  </thead>\n",
       "  <tbody>\n",
       "    <tr>\n",
       "      <th>0</th>\n",
       "      <td>1488844</td>\n",
       "      <td>3</td>\n",
       "      <td>2005-09-06</td>\n",
       "      <td>1</td>\n",
       "    </tr>\n",
       "    <tr>\n",
       "      <th>1</th>\n",
       "      <td>822109</td>\n",
       "      <td>5</td>\n",
       "      <td>2005-05-13</td>\n",
       "      <td>1</td>\n",
       "    </tr>\n",
       "    <tr>\n",
       "      <th>2</th>\n",
       "      <td>885013</td>\n",
       "      <td>4</td>\n",
       "      <td>2005-10-19</td>\n",
       "      <td>1</td>\n",
       "    </tr>\n",
       "    <tr>\n",
       "      <th>3</th>\n",
       "      <td>30878</td>\n",
       "      <td>4</td>\n",
       "      <td>2005-12-26</td>\n",
       "      <td>1</td>\n",
       "    </tr>\n",
       "    <tr>\n",
       "      <th>4</th>\n",
       "      <td>823519</td>\n",
       "      <td>3</td>\n",
       "      <td>2004-05-03</td>\n",
       "      <td>1</td>\n",
       "    </tr>\n",
       "  </tbody>\n",
       "</table>\n",
       "</div>"
      ],
      "text/plain": [
       "   CustomerID  Rating        Date  MovieID\n",
       "0     1488844       3  2005-09-06        1\n",
       "1      822109       5  2005-05-13        1\n",
       "2      885013       4  2005-10-19        1\n",
       "3       30878       4  2005-12-26        1\n",
       "4      823519       3  2004-05-03        1"
      ]
     },
     "execution_count": 9,
     "metadata": {},
     "output_type": "execute_result"
    }
   ],
   "source": [
    "customer_movies = pd.DataFrame(columns=['CustomerID', 'MovieID', 'Rating', 'Date'])\n",
    "customer_movies = pd.concat(movie_rankings)\n",
    "customer_movies.head()"
   ]
  },
  {
   "cell_type": "code",
   "execution_count": 10,
   "metadata": {},
   "outputs": [
    {
     "name": "stdout",
     "output_type": "stream",
     "text": [
      "(21409524, 4)\n",
      "(20208325, 4)\n"
     ]
    }
   ],
   "source": [
    "#Remove users with fewer than 15 ratings as we do not have a foundation to build our recoomenadations on.\n",
    "print(customer_movies.shape)\n",
    "customer_movies = customer_movies.groupby('CustomerID').filter(lambda x : len(x)>=15)\n",
    "print(customer_movies.shape)"
   ]
  },
  {
   "cell_type": "code",
   "execution_count": 11,
   "metadata": {},
   "outputs": [],
   "source": [
    "movies_with_customer_ratings_and_all_features = pd.merge(customer_movies, movies_dataframe, on=\"MovieID\")"
   ]
  },
  {
   "cell_type": "code",
   "execution_count": 12,
   "metadata": {},
   "outputs": [],
   "source": [
    "#Populate empty fields and NaN values\n",
    "movies_with_customer_ratings_and_all_features = movies_with_customer_ratings_and_all_features.drop(['Budget','Genre','Original_language','Runtime'], axis=1)"
   ]
  },
  {
   "cell_type": "code",
   "execution_count": 18,
   "metadata": {},
   "outputs": [],
   "source": [
    "#Convert Date to unix-timestamp\n",
    "import datetime as dt\n",
    "movies_with_customer_ratings_and_all_features['Date'] = pd.to_datetime(movies_with_customer_ratings_and_all_features['Date'])\n",
    "movies_with_customer_ratings_and_all_features['Date'] = (movies_with_customer_ratings_and_all_features['Date'] - dt.datetime(1970,1,1)).dt.total_seconds()"
   ]
  },
  {
   "cell_type": "code",
   "execution_count": null,
   "metadata": {
    "ExecuteTime": {
     "end_time": "2019-10-31T14:46:03.632910Z",
     "start_time": "2019-10-31T14:46:03.550108Z"
    }
   },
   "outputs": [],
   "source": [
    "movies_with_customer_ratings_and_all_features.head()"
   ]
  },
  {
   "cell_type": "code",
   "execution_count": null,
   "metadata": {},
   "outputs": [],
   "source": [
    "movies_with_customer_ratings_and_all_features.to_csv('../dataset/prepared/movies_with_customer_ratings_and_all_features.csv', encoding='utf-8')\n"
   ]
  },
  {
   "cell_type": "markdown",
   "metadata": {},
   "source": [
    "https://blog.echen.me/2011/10/24/winning-the-netflix-prize-a-summary/\n",
    "\n",
    "http://www.cs.carleton.edu/cs_comps/0607/recommend/recommender/results.html"
   ]
  },
  {
   "cell_type": "code",
   "execution_count": null,
   "metadata": {},
   "outputs": [],
   "source": []
  },
  {
   "cell_type": "code",
   "execution_count": null,
   "metadata": {},
   "outputs": [],
   "source": []
  }
 ],
 "metadata": {
  "kernelspec": {
   "display_name": "Python 3",
   "language": "python",
   "name": "python3"
  },
  "language_info": {
   "codemirror_mode": {
    "name": "ipython",
    "version": 3
   },
   "file_extension": ".py",
   "mimetype": "text/x-python",
   "name": "python",
   "nbconvert_exporter": "python",
   "pygments_lexer": "ipython3",
   "version": "3.6.9"
  },
  "varInspector": {
   "cols": {
    "lenName": 16,
    "lenType": 16,
    "lenVar": 40
   },
   "kernels_config": {
    "python": {
     "delete_cmd_postfix": "",
     "delete_cmd_prefix": "del ",
     "library": "var_list.py",
     "varRefreshCmd": "print(var_dic_list())"
    },
    "r": {
     "delete_cmd_postfix": ") ",
     "delete_cmd_prefix": "rm(",
     "library": "var_list.r",
     "varRefreshCmd": "cat(var_dic_list()) "
    }
   },
   "types_to_exclude": [
    "module",
    "function",
    "builtin_function_or_method",
    "instance",
    "_Feature"
   ],
   "window_display": false
  }
 },
 "nbformat": 4,
 "nbformat_minor": 2
}
