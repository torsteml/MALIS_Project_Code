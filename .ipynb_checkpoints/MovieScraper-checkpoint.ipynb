{
 "cells": [
  {
   "cell_type": "code",
   "execution_count": 230,
   "metadata": {
    "ExecuteTime": {
     "end_time": "2019-11-01T08:26:10.577174Z",
     "start_time": "2019-11-01T08:26:10.572847Z"
    }
   },
   "outputs": [],
   "source": [
    "import seaborn as sns\n",
    "import numpy as np\n",
    "import pandas as pd\n",
    "from time import sleep"
   ]
  },
  {
   "cell_type": "code",
   "execution_count": 231,
   "metadata": {
    "ExecuteTime": {
     "end_time": "2019-11-01T08:26:11.015840Z",
     "start_time": "2019-11-01T08:26:10.967463Z"
    }
   },
   "outputs": [
    {
     "data": {
      "text/html": [
       "<div>\n",
       "<style scoped>\n",
       "    .dataframe tbody tr th:only-of-type {\n",
       "        vertical-align: middle;\n",
       "    }\n",
       "\n",
       "    .dataframe tbody tr th {\n",
       "        vertical-align: top;\n",
       "    }\n",
       "\n",
       "    .dataframe thead th {\n",
       "        text-align: right;\n",
       "    }\n",
       "</style>\n",
       "<table border=\"1\" class=\"dataframe\">\n",
       "  <thead>\n",
       "    <tr style=\"text-align: right;\">\n",
       "      <th></th>\n",
       "      <th>MovieID</th>\n",
       "      <th>YearOfRelease</th>\n",
       "      <th>Title</th>\n",
       "    </tr>\n",
       "  </thead>\n",
       "  <tbody>\n",
       "    <tr>\n",
       "      <td>0</td>\n",
       "      <td>1</td>\n",
       "      <td>2003.0</td>\n",
       "      <td>Dinosaur Planet</td>\n",
       "    </tr>\n",
       "    <tr>\n",
       "      <td>1</td>\n",
       "      <td>2</td>\n",
       "      <td>2004.0</td>\n",
       "      <td>Isle of Man TT 2004 Review</td>\n",
       "    </tr>\n",
       "    <tr>\n",
       "      <td>2</td>\n",
       "      <td>3</td>\n",
       "      <td>1997.0</td>\n",
       "      <td>Character</td>\n",
       "    </tr>\n",
       "    <tr>\n",
       "      <td>3</td>\n",
       "      <td>4</td>\n",
       "      <td>1994.0</td>\n",
       "      <td>Paula Abdul's Get Up &amp; Dance</td>\n",
       "    </tr>\n",
       "    <tr>\n",
       "      <td>4</td>\n",
       "      <td>5</td>\n",
       "      <td>2004.0</td>\n",
       "      <td>The Rise and Fall of ECW</td>\n",
       "    </tr>\n",
       "    <tr>\n",
       "      <td>...</td>\n",
       "      <td>...</td>\n",
       "      <td>...</td>\n",
       "      <td>...</td>\n",
       "    </tr>\n",
       "    <tr>\n",
       "      <td>17765</td>\n",
       "      <td>17766</td>\n",
       "      <td>2002.0</td>\n",
       "      <td>Where the Wild Things Are and Other Maurice Se...</td>\n",
       "    </tr>\n",
       "    <tr>\n",
       "      <td>17766</td>\n",
       "      <td>17767</td>\n",
       "      <td>2004.0</td>\n",
       "      <td>Fidel Castro: American Experience</td>\n",
       "    </tr>\n",
       "    <tr>\n",
       "      <td>17767</td>\n",
       "      <td>17768</td>\n",
       "      <td>2000.0</td>\n",
       "      <td>Epoch</td>\n",
       "    </tr>\n",
       "    <tr>\n",
       "      <td>17768</td>\n",
       "      <td>17769</td>\n",
       "      <td>2003.0</td>\n",
       "      <td>The Company</td>\n",
       "    </tr>\n",
       "    <tr>\n",
       "      <td>17769</td>\n",
       "      <td>17770</td>\n",
       "      <td>2003.0</td>\n",
       "      <td>Alien Hunter</td>\n",
       "    </tr>\n",
       "  </tbody>\n",
       "</table>\n",
       "<p>17770 rows × 3 columns</p>\n",
       "</div>"
      ],
      "text/plain": [
       "       MovieID  YearOfRelease  \\\n",
       "0            1         2003.0   \n",
       "1            2         2004.0   \n",
       "2            3         1997.0   \n",
       "3            4         1994.0   \n",
       "4            5         2004.0   \n",
       "...        ...            ...   \n",
       "17765    17766         2002.0   \n",
       "17766    17767         2004.0   \n",
       "17767    17768         2000.0   \n",
       "17768    17769         2003.0   \n",
       "17769    17770         2003.0   \n",
       "\n",
       "                                                   Title  \n",
       "0                                        Dinosaur Planet  \n",
       "1                             Isle of Man TT 2004 Review  \n",
       "2                                              Character  \n",
       "3                           Paula Abdul's Get Up & Dance  \n",
       "4                               The Rise and Fall of ECW  \n",
       "...                                                  ...  \n",
       "17765  Where the Wild Things Are and Other Maurice Se...  \n",
       "17766                  Fidel Castro: American Experience  \n",
       "17767                                              Epoch  \n",
       "17768                                        The Company  \n",
       "17769                                       Alien Hunter  \n",
       "\n",
       "[17770 rows x 3 columns]"
      ]
     },
     "execution_count": 231,
     "metadata": {},
     "output_type": "execute_result"
    }
   ],
   "source": [
    "movies_dataframe = pd.read_csv('../dataset/movie_titles.txt', usecols=range(3), encoding='latin1', header=None) #Movie title may contain comma.\n",
    "movies_dataframe.columns = ['MovieID','YearOfRelease','Title']\n",
    "#movies_dataframe = movies_dataframe[:10]\n",
    "movies_dataframe"
   ]
  },
  {
   "cell_type": "code",
   "execution_count": 244,
   "metadata": {
    "ExecuteTime": {
     "end_time": "2019-11-01T08:34:01.831540Z",
     "start_time": "2019-11-01T08:34:01.820321Z"
    }
   },
   "outputs": [],
   "source": [
    "import requests\n",
    "#returns the internal ID for use towards the Movie DB api. If no movie found, returns -1\n",
    "def getTheMovieDbId(title, year):\n",
    "    url = \"https://api.themoviedb.org/3/search/movie\"\n",
    "    api_key = \"936803e93cf0f57238bc692f7cfed8d6\"\n",
    "    payload = {\"api_key\":api_key, \"language\":\"en-US\", \"query\":title, \"include_adult\":\"false\", \"year\":year}\n",
    "    r = requests.get(url, params=payload)\n",
    "    data = r.json()\n",
    "    print(data)\n",
    "    choise = 0\n",
    "    try:\n",
    "        if(data['total_results']>1):\n",
    "            if(data['results'][0]['title'].startswith(title) and data['results'][0]['release_date'][:4] == str(year)):\n",
    "                choise = 0\n",
    "            else:\n",
    "                return -1\n",
    "    except:\n",
    "        pass\n",
    "    try: \n",
    "        return data['results'][choise]['id']\n",
    "    except:\n",
    "        return -1\n",
    "    \n",
    "def getMovieInformation(tmdbID):\n",
    "    url = \"https://api.themoviedb.org/3/movie/\" + str(tmdbID)\n",
    "    api_key = \"936803e93cf0f57238bc692f7cfed8d6\"\n",
    "    payload = {\"api_key\":api_key, \"language\":\"en-US\"}\n",
    "    r = requests.get(url, params=payload)\n",
    "    data = r.json()\n",
    "    return data\n"
   ]
  },
  {
   "cell_type": "code",
   "execution_count": 245,
   "metadata": {
    "ExecuteTime": {
     "end_time": "2019-11-01T08:34:50.616922Z",
     "start_time": "2019-11-01T08:34:02.477971Z"
    }
   },
   "outputs": [
    {
     "name": "stdout",
     "output_type": "stream",
     "text": [
      "{'page': 1, 'total_results': 0, 'total_pages': 0, 'results': []}\n",
      "Failed to append:  Dinosaur Planet\n",
      "1 / 17770  ( 5.627462014631401e-05 )\n",
      "{'page': 1, 'total_results': 0, 'total_pages': 0, 'results': []}\n",
      "Failed to append:  Isle of Man TT 2004 Review\n",
      "2 / 17770  ( 0.00011254924029262802 )\n",
      "{'page': 1, 'total_results': 1, 'total_pages': 1, 'results': [{'popularity': 3.93, 'vote_count': 50, 'video': False, 'poster_path': '/gSJgxWyuAfligoPjw395ea9ZD3v.jpg', 'id': 17139, 'adult': False, 'backdrop_path': '/fvuQwst94zewUnu5QEQpJVTOLnx.jpg', 'original_language': 'nl', 'original_title': 'Karakter', 'genre_ids': [18, 36], 'title': 'Character', 'vote_average': 7.6, 'overview': 'J.W. Katadreuffe is the son of Joba Katadreuffe and A.B. Drevenhaven. Though fully neglected by Joba, Dreverhaven ensures the succesfull career of his son. Mostly unseen, though he sues his son a few times. The son Katadreuffe succeeds, but at great costs.', 'release_date': '1997-04-17'}]}\n",
      "Appended  Character  as  Character\n",
      "3 / 17770  ( 0.00016882386043894204 )\n",
      "{'page': 1, 'total_results': 0, 'total_pages': 0, 'results': []}\n",
      "Failed to append:  Paula Abdul's Get Up & Dance\n",
      "4 / 17770  ( 0.00022509848058525604 )\n",
      "{'page': 1, 'total_results': 2, 'total_pages': 1, 'results': [{'popularity': 1.543, 'id': 587567, 'video': False, 'vote_count': 1, 'vote_average': 5, 'title': 'The Rise and Fall of ECW', 'release_date': '2004-11-14', 'original_language': 'en', 'original_title': 'The Rise and Fall of ECW', 'genre_ids': [], 'backdrop_path': '/AvqZig4qg4ShDb7SSYriL7SHEWc.jpg', 'adult': False, 'overview': \"Extreme Championship Wrestling redefined professional wrestling in the '90s with a reckless, brutal style still talked about today.\", 'poster_path': '/qwrB3vjrEHy2obzDbePBLsg9arG.jpg'}, {'popularity': 2.506, 'id': 33209, 'video': True, 'vote_count': 10, 'vote_average': 7.8, 'title': 'WWE: The Rise + Fall of ECW', 'release_date': '2004-11-16', 'original_language': 'en', 'original_title': 'WWE: The Rise + Fall of ECW', 'genre_ids': [99], 'backdrop_path': '/wHBNylC7Zb1vXYMqu8fVCYA4sNF.jpg', 'adult': False, 'overview': 'ECW: Extreme Championship Wrestling redefined professional wrestling in the \\'90s with a reckless, brutal, death-defying, and often bloody style that came to be known as \"hardcore.\" It attracted a rabid, cult-like following that is still going strong today.', 'poster_path': '/jWixWVQs3OJwEXFEKeg525Lceal.jpg'}]}\n",
      "Failed to append:  The Rise and Fall of ECW\n",
      "5 / 17770  ( 0.0002813731007315701 )\n",
      "{'page': 1, 'total_results': 2, 'total_pages': 1, 'results': [{'popularity': 2.661, 'id': 35638, 'video': False, 'vote_count': 13, 'vote_average': 6.5, 'title': 'Sick: The Life and Death of Bob Flanagan, Supermasochist', 'release_date': '1997-01-01', 'original_language': 'en', 'original_title': 'Sick: The Life and Death of Bob Flanagan, Supermasochist', 'genre_ids': [99], 'backdrop_path': '/lMbT5kZkUagaejqA3hCgpI4eLYX.jpg', 'adult': False, 'overview': \"The story of Robert Flanagan, a man who was born with cystic fibrosis and told he wouldn't live past 20, who through a unique odyssey of masochism, art and love found a way to live decades past his expiration date.\", 'poster_path': '/obZbsywx1Z3i5Fkz3H99HchDAVw.jpg'}, {'popularity': 1.376, 'id': 347116, 'video': True, 'vote_count': 1, 'vote_average': 5, 'title': \"Spike and Mike's Sick & Twisted Festival of Animation\", 'release_date': '1997-11-20', 'original_language': 'en', 'original_title': \"Spike and Mike's Sick & Twisted Festival of Animation\", 'genre_ids': [35, 16], 'backdrop_path': '/2Qrriq3lL2c1R4FwdGhmhgZIWdz.jpg', 'adult': False, 'overview': \"The quality programming you've been waiting for! You'll laugh your guts out all over the floor...  Contains; Scotty Opener, No Neck Joe, No Neck Joe II, Dumb-Big-Fat-Stupid Baby, Baby's New Formula, How To Make Love To A Woman, Rick The Dick In Tie-Died Dick, Schindler's Fist, Jurassic Fart, Dogpile, Horndog, Brian's Brain, The Cat -Cow And Beautiful Fish, Finger Food, Slaughter Day, Petey's Wake, Dogpile II, Oh-Crappy Day,Triassic Parking Lot, Spaghetti Snot, Chainsaw Bob In A Cult Classic, Stubbs, Lloyd's Lunchbox, Wrong Hole, Gun-Zipper-Snot, Empty Roll, Hut Sluts, Rick The Dick In Hospital Hell, Wastes Away, Phull Phrontal Phingers, The Birth Of Brian, Home Honey I'm High, Lloyd Loses His Lunch, Illusion Of Life, Lloyd's Lunchbox III.\", 'poster_path': '/i2lk3nnkdgniq3Nq9SUweOuP8Cg.jpg'}]}\n",
      "Failed to append:  Sick\n",
      "6 / 17770  ( 0.0003376477208778841 )\n",
      "{'page': 1, 'total_results': 96, 'total_pages': 5, 'results': [{'popularity': 0.6, 'id': 196685, 'video': False, 'vote_count': 1, 'vote_average': 1, 'title': '8 Man - For All Lonely Nights', 'release_date': '1992-06-04', 'original_language': 'ja', 'original_title': '8マン・すべての寂しい夜のために', 'genre_ids': [], 'backdrop_path': None, 'adult': False, 'overview': \"After Tokyo police officer Yokoda is killed in the line of duty, his chief decides give Yokoda's body to Dr. Tani for use in a secret scientific experiment: Yokoda's brain will be transplanted into a super-powered robot body, making him into an unstoppable policeman of the future. The supercop develops problems, however, when he begins to remember his human past. Then there is the matter of Dr. Tani's other cyborg, who has become a super-powered homicidal maniac.\", 'poster_path': '/kc3n2bb0FF4uV7VIrUtytitSHmR.jpg'}, {'popularity': 10.704, 'id': 9096, 'video': False, 'vote_count': 190, 'vote_average': 6, 'title': 'Medicine Man', 'release_date': '1992-02-07', 'original_language': 'en', 'original_title': 'Medicine Man', 'genre_ids': [12, 18], 'backdrop_path': '/kmcnv73Wn0nkPQ5zQH7amJh4rEJ.jpg', 'adult': False, 'overview': 'An eccentric scientist working for a large drug company is working on a research project in the Amazon jungle. He sends for a research assistant and a gas chromatograph because he\\'s close to a cure for cancer. When the assistant turns out to be a \"mere woman,\" he rejects her help. Meanwhile the bulldozers get closer to the area in which they are conducting research, and they eventually learn to work together, and begin falling in love.', 'poster_path': '/lQAvyFcppZhqbz5coICwfbgcylY.jpg'}, {'popularity': 11.367, 'vote_count': 340, 'video': False, 'poster_path': '/xSjdE12wXgdJwX3mvGAniNFMbTi.jpg', 'id': 10406, 'adult': False, 'backdrop_path': '/s9HF8J3b2wgSMT6mOhspbLnesFP.jpg', 'original_language': 'en', 'original_title': 'Encino Man', 'genre_ids': [35, 10751], 'title': 'Encino Man', 'vote_average': 5.7, 'overview': \"High school misfits Stoney and Dave discover a long-frozen primeval man buried in their back yard. But the thawed-out Link—as the boys have named him—quickly becomes a wild card in the teens' already zany southern California lives. After a shave and some new clothes, Link's presence at school makes the daily drudgery a lot more interesting.\", 'release_date': '1992-05-22'}, {'popularity': 10.677, 'vote_count': 357, 'video': False, 'poster_path': '/3tWLM3zMyh3KZOactn8mfjHml05.jpg', 'id': 10163, 'adult': False, 'backdrop_path': '/fXCoMFPV7PSwNBZb02SPRFRp7T4.jpg', 'original_language': 'en', 'original_title': 'The Lawnmower Man', 'genre_ids': [27, 878, 53], 'title': 'The Lawnmower Man', 'vote_average': 5.5, 'overview': 'A simple man is turned into a genius through the application of computer science.', 'release_date': '1992-03-05'}, {'popularity': 8.929, 'id': 17474, 'video': False, 'vote_count': 127, 'vote_average': 7.2, 'title': 'The Man in the Moon', 'release_date': '1991-09-30', 'original_language': 'en', 'original_title': 'The Man in the Moon', 'genre_ids': [18, 10751, 10749], 'backdrop_path': '/dAkQlCnGqOmqPcpkZW7fk7P0oKj.jpg', 'adult': False, 'overview': 'Maureen Trant and her younger sibling Dani share a strong connection, but local boy Court Foster threatens to throw their bond off balance. Dani and Court meet first and have a flirtatious rapport -- but when he meets Maureen, he falls hard and they begin a passionate affair. The new couple try to keep their love hidden from Dani, but she soon learns the truth, disavowing her sister. But a heartbreaking accident later reunites the girls.', 'poster_path': '/6joNFlFTW7uKr7JZYJCoLyUx3B2.jpg'}, {'popularity': 9.164, 'vote_count': 168, 'video': False, 'poster_path': '/u2wmXRegggH2o2AtRm0HXKtJqHY.jpg', 'id': 2453, 'adult': False, 'backdrop_path': '/1E8opVXbqzYe1GjPxIWZ8OxRTG6.jpg', 'original_language': 'en', 'original_title': 'Harley Davidson and the Marlboro Man', 'genre_ids': [28, 53], 'title': 'Harley Davidson and the Marlboro Man', 'vote_average': 6.3, 'overview': \"It's the lawless future, and renegade biker Harley Davidson and his surly cowboy buddy, Marlboro, learn that a corrupt bank is about to foreclose on their friend's bar to further an expanding empire. Harley and Marlboro decide to help by robbing the crooked bank. But when they accidentally filch a drug shipment, they find themselves on the run from criminal financiers and the mob in this rugged action adventure.\", 'release_date': '1991-08-23'}, {'popularity': 6.787, 'vote_count': 401, 'video': False, 'poster_path': '/noCxjrCok0HtSxrAc0yWx5zSBpe.jpg', 'id': 10086, 'adult': False, 'backdrop_path': '/sVmbRqvT6WfNUnHsh1z5sVDdC1c.jpg', 'original_language': 'fr', 'original_title': \"C'est arrivé près de chez vous\", 'genre_ids': [35, 80, 18, 27], 'title': 'Man Bites Dog', 'vote_average': 7.4, 'overview': 'The activities of rampaging, indiscriminate serial killer Ben are recorded by a willingly complicit documentary team, who eventually become his accomplices and active participants. Ben provides casual commentary on the nature of his work and arbitrary musings on topics of interest to him, such as music or the conditions of low-income housing, and even goes so far as to introduce the documentary crew to his family. But their reckless indulgences soon get the better of them.', 'release_date': '1992-10-09'}, {'popularity': 8.462, 'vote_count': 247, 'video': False, 'poster_path': '/jEMkUcTUviSqnP88Fs3mKVl0wUs.jpg', 'id': 2687, 'adult': False, 'backdrop_path': '/gHwtBXWj2QoDIwRSnUnOcD2z1Li.jpg', 'original_language': 'en', 'original_title': 'Memoirs of an Invisible Man', 'genre_ids': [35, 14, 878], 'title': 'Memoirs of an Invisible Man', 'vote_average': 5.9, 'overview': 'After a freak accident, an invisible yuppie runs for his life from a treacherous CIA official while trying to cope with his new life.', 'release_date': '1992-02-28'}, {'popularity': 4.852, 'id': 39472, 'video': False, 'vote_count': 19, 'vote_average': 4.9, 'title': 'Man Trouble', 'release_date': '1992-07-17', 'original_language': 'en', 'original_title': 'Man Trouble', 'genre_ids': [35, 10749], 'backdrop_path': '/ypRwz902r0Td35ZiGbCI0v5jDq7.jpg', 'adult': False, 'overview': 'A sleazy but affable guard dog trainer is blackmailed to steal a manuscript for a tell-all book from one of his clients.', 'poster_path': '/xG7BRZV51OqnSK520ZMWwznyCSb.jpg'}, {'popularity': 7.798, 'id': 11521, 'video': False, 'vote_count': 113, 'vote_average': 6.5, 'title': 'Little Man Tate', 'release_date': '1991-09-06', 'original_language': 'en', 'original_title': 'Little Man Tate', 'genre_ids': [18, 10751], 'backdrop_path': '/8jNFY3CevkBdfJzL9MoBMV5hZ7D.jpg', 'adult': False, 'overview': 'Dede is a sole parent trying to bring up her son Fred. When it is discovered that Fred is a genius, she is determined to ensure that Fred has all the opportunities that he needs, and that he is not taken advantage of by people who forget that his extremely powerful intellect is harboured in the body and emotions of a child.', 'poster_path': '/j4YkIzpyp0YkkTZJoxMcS4NYF2T.jpg'}, {'popularity': 3.194, 'id': 37433, 'video': False, 'vote_count': 26, 'vote_average': 7, 'title': 'Neo Tokyo', 'release_date': '1992-11-20', 'original_language': 'ja', 'original_title': '迷宮物語', 'genre_ids': [27, 878, 16, 12, 14], 'backdrop_path': '/izaduTSMD5OBzqKxzmQrj4FYApl.jpg', 'adult': False, 'overview': \"Three shorts directed by the same names that brought you Metropolis, Ninja Scroll, and Akira. It begins with “Labyrinth Labyrinthos”, a story of a maze in a child's mind, directed by Rintaro. Next Yoshiaki Kawajiri gives us “The Running Man”. This is a futuristic formula one race is set on a deadly track. Lastly Katsuhiro Ôtomo describes a struggle to shut down an entirely automated facility in “Construction Cancellation Order“.\", 'poster_path': '/3tQqkfhE2v03OXK4ocxKQ4rnkaC.jpg'}, {'popularity': 1.746, 'id': 73417, 'video': False, 'vote_count': 12, 'vote_average': 5.2, 'title': 'Fist of Fury 1991 II', 'release_date': '1992-01-01', 'original_language': 'cn', 'original_title': 'Man hua wei long', 'genre_ids': [28, 35], 'backdrop_path': '/q98gwHfmMuEV6yTw4TCf29tZDb7.jpg', 'adult': False, 'overview': 'A sequel to Fist of Fury 1991 that continues right where the last one leaves off. Chow is a wacky but lovable mainlander duking it out with wacky bad guy Yuen Wah. Meanwhile, he learns kung-fu from the legendary Josephine Siao, and assorted hijinks involving Cheung Man and Nat Chan Bak-Cheung go on forever.', 'poster_path': '/aHSAO6ohhnWPYp4UAw070A0CFbG.jpg'}, {'popularity': 1.33, 'id': 66241, 'video': False, 'vote_count': 4, 'vote_average': 7, 'title': 'Mannan', 'release_date': '1992-01-14', 'original_language': 'ta', 'original_title': 'மன்னன்', 'genre_ids': [18], 'backdrop_path': '/mBVPNsnIw6LENliZTt46LKWVDEZ.jpg', 'adult': False, 'overview': 'Circumstances force the union leader of a factory to marry his own boss, a rich and arrogant lady who has ulterior motives.', 'poster_path': '/9l7eck2GbAZ6lOOGZ1iO1jYXTcy.jpg'}, {'popularity': 2.118, 'id': 28454, 'video': False, 'vote_count': 4, 'vote_average': 4.1, 'title': 'Cthulhu Mansion', 'release_date': '1992-03-04', 'original_language': 'en', 'original_title': 'La mansión de los Cthulhu', 'genre_ids': [27], 'backdrop_path': '/ctuzOpYoTyFzu7ilIUwFM5WzYeM.jpg', 'adult': False, 'overview': \"An aging magician harboring a terrible occult secret and his daughter are taken hostage in their isolated mansion by teenage scumbags need- ing a place to hide out. When the captors refuse to listen to the magician's dire warning to release him unharmed, the mansion slowly releases its nightmare of horrors on the unsuspecting invaders.\", 'poster_path': '/db6JgEU0GrUt5RJGjO8qwkJgD3X.jpg'}, {'popularity': 7.182, 'vote_count': 187, 'video': False, 'poster_path': '/mb6Hmns0PP2Me9TYpLE9M3GHt7v.jpg', 'id': 28384, 'adult': False, 'backdrop_path': '/i8tc07aXgLgNoNhdSrKpZaWUD9O.jpg', 'original_language': 'en', 'original_title': 'Husbands and Wives', 'genre_ids': [35, 18, 10749], 'title': 'Husbands and Wives', 'vote_average': 7.1, 'overview': \"When Jack and Sally announce that they're splitting up, this comes as a shock to their best friends Gabe and Judy. Maybe mostly because they also are drifting apart and are now being made aware of it. So while Jack and Sally try to go on and meet new people, the marriage of Gabe and Judy gets more and more strained, and they begin to find themselves being attracted to other people.\", 'release_date': '1992-09-18'}, {'popularity': 3.769, 'vote_count': 40, 'video': False, 'poster_path': '/sgF2RyQTFl9lKyT0CJlZhzZfbNI.jpg', 'id': 10408, 'adult': False, 'backdrop_path': '/8EBHTP6GuVQOUdC6VeOj9HcryNw.jpg', 'original_language': 'nl', 'original_title': 'Flodder in Amerika!', 'genre_ids': [35], 'title': 'Flodder Does Manhattan!', 'vote_average': 5.7, 'overview': 'The mayor of Sunny Dale see a chance to get rid of the Flodder family: They send the asocial bunch for an international exchange to New York. There they get confused with a Russian delegation of medical doctors while the street worker Werner who accompanies them becomes imprisoned.', 'release_date': '1992-06-03'}, {'popularity': 4.823, 'id': 16982, 'video': False, 'vote_count': 12, 'vote_average': 5.4, 'title': 'Spotswood', 'release_date': '1992-10-09', 'original_language': 'en', 'original_title': 'Spotswood', 'genre_ids': [35], 'backdrop_path': '/q0PSx8vTrTnlRWb1X2CQEDicqLh.jpg', 'adult': False, 'overview': 'Wallace is an efficiency expert, managing the high-profile downsizing of a major auto parts factory. But when he is hired to evaluate a small moccasin factory which seems from another era, Wallace has to reconsider the rapid modernization he advocates, as he is confronted by the human faces such plans hurt.', 'poster_path': '/rycQzbaoWNmzxQAIO4OSFZDgoLz.jpg'}, {'popularity': 0.6, 'id': 155393, 'video': False, 'vote_count': 1, 'vote_average': 4.5, 'title': 'Taking Manhattan', 'release_date': '1992-11-05', 'original_language': 'cn', 'original_title': 'Mai qi Mankedun', 'genre_ids': [28], 'backdrop_path': None, 'adult': False, 'overview': \"Ho has a bright future with Hong Kong's police force. ButHo's wife wants to emigrate to the United States. So he winds up in Manhattan on the New York police force. Ho's wife meets Chinese 'wheeler- dealer' Chan who teaches her how to double her money overnight. She changes from a tender wife into a hard business woman as Ho watches helplessly. In fact, Ho has been given his new undercover assignment: to investigate Chan and his suspected criminal background. So the Hos and the Chans keep on meeting, loving and hating, all the while in the shadow of the Brooklyn Bridge until the explosive end.\", 'poster_path': '/4XZezceafcuUgwY2KbEJh0K8HQw.jpg'}, {'popularity': 9.291, 'vote_count': 407, 'video': False, 'poster_path': '/mKNDQjZ49UdkbH6SPC9wbxtcp39.jpg', 'id': 11087, 'adult': False, 'backdrop_path': '/lxsr2jhzXc6kWOnhkIGSMjslqZP.jpg', 'original_language': 'en', 'original_title': 'The Hand that Rocks the Cradle', 'genre_ids': [18, 53], 'title': 'The Hand that Rocks the Cradle', 'vote_average': 6.7, 'overview': \"A suburban family chooses seemingly sweet Peyton Flanders as their newborn's nanny. Only much later does the infant's mother, Claire Bartel, realize Peyton's true intentions -- to destroy Claire and replace her in the family. The nail-biting suspense builds quickly in this chilling psychological thriller about deception and bitter revenge.\", 'release_date': '1992-01-10'}, {'popularity': 6.553, 'id': 38438, 'video': False, 'vote_count': 104, 'vote_average': 7.2, 'title': 'Buffet Froid', 'release_date': '1979-12-19', 'original_language': 'fr', 'original_title': 'Buffet Froid', 'genre_ids': [35, 80], 'backdrop_path': '/dCr2hlJuDLfcmAsVAzyi5f5tTE1.jpg', 'adult': False, 'overview': 'An absurd black comedy that cunningly reverses the conventions of the crime thriller to comment on the alienating and dehumanizing effects of contemporary urban life. Alphonse Tram is unwittingly involved in several murders despite having no memory of committing the crimes. His confusion lead him to confess to his neighbour, Inspector Morvandieu. Alphonse and Morvandieu become the axis around which murders occur.', 'poster_path': '/p0AE0o1A7QT1PNV1eF3nHTy6xvj.jpg'}]}\n",
      "Failed to append:  8 Man\n",
      "7 / 17770  ( 0.0003939223410241981 )\n"
     ]
    },
    {
     "name": "stdout",
     "output_type": "stream",
     "text": [
      "{'page': 1, 'total_results': 1, 'total_pages': 1, 'results': [{'popularity': 5.677, 'id': 8357, 'video': False, 'vote_count': 57, 'vote_average': 5.6, 'title': 'What the #$*! Do We (K)now!?', 'release_date': '2004-04-23', 'original_language': 'en', 'original_title': 'What the #$*! Do We (K)now!?', 'genre_ids': [99], 'backdrop_path': '/kTtNJSC3KClQqIUxGdrR6QGWZUN.jpg', 'adult': False, 'overview': 'Amanda (Marlee Maitlin) is a divorced woman who makes a living as a photographer. During the Fall of the year Amanda begins to see the world in new and different ways when she begins to question her role in life, her relationships with her career and men and what it all means. As the layers to her everyday experiences fall away insertions in the story with scientists, and philosophers and religious leaders impart information directly to an off-screen interviewer about academic issues, and Amanda begins to understand the basis to the quantum world beneath. During her epiphany as she considers the Great Questions raised by the host of inserted thinkers, Amanda slowly comprehends the various inspirations and begins to see the world in a new way.', 'poster_path': '/hvaRFls9c5EFYr2gILtSsSZp8gu.jpg'}]}\n",
      "Appended  What the #$*! Do We Know!?  as  What the #$*! Do We (K)now!?\n",
      "8 / 17770  ( 0.0004501969611705121 )\n",
      "{'page': 1, 'total_results': 1, 'total_pages': 1, 'results': [{'popularity': 5.033, 'id': 26230, 'video': False, 'vote_count': 26, 'vote_average': 4.2, 'title': \"Class of Nuke 'Em High 2: Subhumanoid Meltdown\", 'release_date': '1991-01-01', 'original_language': 'en', 'original_title': \"Class of Nuke 'Em High 2: Subhumanoid Meltdown\", 'genre_ids': [35, 27, 878], 'backdrop_path': '/6kDnTthF98IWWppACqEwV7zTQi2.jpg', 'adult': False, 'overview': \"The class of nuke 'em high is back, and this time they're in college! Tromaville's nuclear factory has been rebuilt and now includes the Tromaville institute of technology. Located inside the nuclear plant, Tromaville Tech is where Prof. Holt has perfected Sub-humanoids.... Living beings without emotions, who have been genetically programmed to perform menial tasks. When school reporter Roger Smit\", 'poster_path': '/bYbLg6xgdPQqKDCXfc0dlJVwkRZ.jpg'}]}\n",
      "Appended  Class of Nuke 'Em High 2  as  Class of Nuke 'Em High 2: Subhumanoid Meltdown\n",
      "9 / 17770  ( 0.0005064715813168261 )\n",
      "{'page': 1, 'total_results': 6, 'total_pages': 1, 'results': [{'popularity': 2.213, 'id': 17433, 'video': False, 'vote_count': 27, 'vote_average': 5.7, 'title': 'Street Fighter Alpha - The Movie', 'release_date': '2001-01-30', 'original_language': 'ja', 'original_title': 'ストリートファイターZERO', 'genre_ids': [28, 16], 'backdrop_path': '/2WckFehKvLPClGuQEpzRFJYrPX6.jpg', 'adult': False, 'overview': \"Increasingly disturbed by the dark energies building within him, Ryu is confronted by Shun, a boy claiming to be the brother he never knew. But before Ryu can consider whether Shun's timely appearance might be more than coincidental, Shun is kidnapped by Shadowlaw. To recover Shun, Ryu must undertake the ultimate journey of self-discovery and learn to control the power threatening to consume him.\", 'poster_path': '/vEcvyPGXA2JYSfmioOP0Sp7HWJD.jpg'}, {'popularity': 9.171, 'id': 25678, 'video': False, 'vote_count': 107, 'vote_average': 5.4, 'title': 'American Ninja 2: The Confrontation', 'release_date': '1987-05-01', 'original_language': 'en', 'original_title': 'American Ninja 2: The Confrontation', 'genre_ids': [28, 12, 18], 'backdrop_path': '/cGVvEiAmZwa1aeyNRSNTN3GvrG8.jpg', 'adult': False, 'overview': 'On a remote Caribbean island, Army Ranger Joe Armstrong saves an old friend from the clutches of \"The Lion\", an evil super-criminal who has kidnapped a local scientist and mass-produced an army of mutant Ninja warriors.', 'poster_path': '/qZT15rkBfTz1kSgoesSInVm7TXH.jpg'}, {'popularity': 0.681, 'vote_count': 3, 'video': False, 'poster_path': '/k83pkWqEApTSpVyX3Hfr1J1oCII.jpg', 'id': 104402, 'adult': False, 'backdrop_path': None, 'original_language': 'cn', 'original_title': '地上最強', 'genre_ids': [28], 'title': 'Extreme Challenge', 'vote_average': 4.7, 'overview': 'A TV channel would be the first in the world to send a martial arts contest through the Internet. The competition is the people with completely different backgrounds that will make up for the title.', 'release_date': '2001-09-13'}, {'popularity': 0.6, 'id': 277152, 'video': False, 'vote_count': 0, 'vote_average': 0, 'title': 'Famous Fighters of World War II: Vol. 2', 'release_date': '2001-01-01', 'original_language': 'en', 'original_title': 'Famous Fighters of World War II: Vol. 2', 'genre_ids': [], 'backdrop_path': None, 'adult': False, 'overview': 'Delving into the history, development and pivotal roles of four World War II Allied aircraft, this fascinating documentary features plenty of dramatic action footage as well as interviews with pilots who flew the planes in combat. Warbirds profiled in Volume 2 include the North American P-51 Mustang, the Vickers-Armstrong Supermarine Spitfire, the de Havilland DH98 Mosquito and the Hawker Hurricane.', 'poster_path': None}, {'popularity': 1.4, 'vote_count': 1, 'video': False, 'poster_path': '/cEucghywjJdHOpQhVr2teDh9qNd.jpg', 'id': 71598, 'adult': False, 'backdrop_path': '/pafP3ny7V8QhnptAvruTPbo78yz.jpg', 'original_language': 'zh', 'original_title': '睡拳怪招', 'genre_ids': [28], 'title': 'Sleeping Fist', 'vote_average': 8, 'overview': \"A plainclothes policeman, Chin Tai Ba (Leung Kar Yan), is seriously wounded in a fight with some ruffians but is helped to safety by a young wiseguy, Cub (Wong Yat Lung). Here he is taught the art of Sleeping Fist by Cub's master Chung Yiu (Simon Yuen Siu Tin), and the trio march to the Shang Wei martial arts school to take revenge on the thugs. However, in a last desperate attempt to get even, the gang call on Eagle Claw master Kao (Kao Hsiung) to sort out the snoozers.\", 'release_date': '2001-01-01'}, {'popularity': 0.6, 'id': 445635, 'video': False, 'vote_count': 0, 'vote_average': 0, 'title': 'Foo Fighters: Live at Bizarre Festival 2001', 'release_date': '2001-08-17', 'original_language': 'en', 'original_title': 'Foo Fighters: Live at Bizarre Festival 2001', 'genre_ids': [10402], 'backdrop_path': '/b88hQTfVeAEqB5SXFpEw8HvrxZv.jpg', 'adult': False, 'overview': 'Performance of the Foo Fighters live at the Bizarre Festival in Weeze Germany on August 17th, 2001.', 'poster_path': '/mqQhJ4w8vMZ8EdMJnISvkXsuOjV.jpg'}]}\n",
      "Failed to append:  Fighter\n",
      "10 / 17770  ( 0.0005627462014631402 )\n",
      "{'page': 1, 'total_results': 0, 'total_pages': 0, 'results': []}\n",
      "Failed to append:  Full Frame: Documentary Shorts\n",
      "11 / 17770  ( 0.0006190208216094542 )\n",
      "{'page': 1, 'total_results': 1, 'total_pages': 1, 'results': [{'popularity': 4.726, 'id': 18649, 'video': False, 'vote_count': 18, 'vote_average': 6.8, 'title': 'My Favorite Brunette', 'release_date': '1947-04-04', 'original_language': 'en', 'original_title': 'My Favorite Brunette', 'genre_ids': [35, 53, 9648, 10749], 'backdrop_path': '/8WpaFkbWJ86R4CIoVrQQC6Gi0Ds.jpg', 'adult': False, 'overview': \"Baby photographer Ronnie Jackson, on death row in San Quentin, tells reporters how he got there: taking care of his private-eye neighbor's office, Ronnie is asked by the irresistible Baroness Montay to find the missing Baron. There follow confusing but sinister doings in a gloomy mansion and a private sanatorium, with every plot twist a parody of thriller cliches.\", 'poster_path': '/5e4bdXZKUl1AH755vICEcSiOocL.jpg'}]}\n",
      "Appended  My Favorite Brunette  as  My Favorite Brunette\n",
      "12 / 17770  ( 0.0006752954417557682 )\n",
      "{'page': 1, 'total_results': 0, 'total_pages': 0, 'results': []}\n",
      "Failed to append:  Lord of the Rings: The Return of the King: Extended Edition: Bonus Material\n",
      "13 / 17770  ( 0.0007315700619020822 )\n",
      "{'page': 1, 'total_results': 0, 'total_pages': 0, 'results': []}\n",
      "Failed to append:  Nature: Antarctica\n",
      "14 / 17770  ( 0.0007878446820483962 )\n",
      "{'page': 1, 'total_results': 1, 'total_pages': 1, 'results': [{'popularity': 1.426, 'id': 17673, 'video': False, 'vote_count': 0, 'vote_average': 0, 'title': 'Neil Diamond: Greatest Hits Live', 'release_date': '1988-06-30', 'original_language': 'en', 'original_title': 'Neil Diamond: Greatest Hits Live', 'genre_ids': [99], 'backdrop_path': None, 'adult': False, 'overview': 'Neil Diamond performing his greatest hits at the Aquarius Theatre in Los Angeles, California.', 'poster_path': '/ofFmCbyDo2UbPtXzgF3HPnB7h0o.jpg'}]}\n"
     ]
    },
    {
     "name": "stdout",
     "output_type": "stream",
     "text": [
      "Appended  Neil Diamond: Greatest Hits Live  as  Neil Diamond: Greatest Hits Live\n",
      "15 / 17770  ( 0.0008441193021947102 )\n",
      "{'page': 1, 'total_results': 1, 'total_pages': 1, 'results': [{'popularity': 9.394, 'vote_count': 256, 'video': False, 'poster_path': '/aFEs7D7IQ2IehTsniRIojDkiDl6.jpg', 'id': 9102, 'adult': False, 'backdrop_path': '/7LMy4tZggDRa31ycv5ccnPtLspV.jpg', 'original_language': 'en', 'original_title': 'Screamers', 'genre_ids': [27, 878], 'title': 'Screamers', 'vote_average': 6.2, 'overview': 'SIRIUS 6B, Year 2078. On a distant mining planet ravaged by a decade of war, scientists have created the perfect weapon: a blade-wielding, self-replicating race of killing devices known as Screamers designed for one purpose only -- to hunt down and destroy all enemy life forms.', 'release_date': '1995-09-08'}]}\n",
      "Appended  Screamers  as  Screamers\n",
      "16 / 17770  ( 0.0009003939223410242 )\n",
      "{'page': 1, 'total_results': 3, 'total_pages': 1, 'results': [{'popularity': 10.821, 'id': 9721, 'video': False, 'vote_count': 87, 'vote_average': 4.7, 'title': '7 Seconds', 'release_date': '2005-08-16', 'original_language': 'en', 'original_title': '7 Seconds', 'genre_ids': [28, 80, 53], 'backdrop_path': '/BF6D6LMPXtxnQo5DFxauSxjsuo.jpg', 'adult': False, 'overview': 'When an experienced thief accidentally makes off with a Van Gogh, his partner is kidnapped by gangsters in pursuit of the painting, forcing the criminal to hatch a rescue plan.', 'poster_path': '/rtfWTGNbIxozrs601jObQZk40gb.jpg'}, {'popularity': 1.052, 'id': 68534, 'video': False, 'vote_count': 3, 'vote_average': 6.7, 'title': '10 Seconds', 'release_date': '2005-01-01', 'original_language': 'en', 'original_title': '10 Seconds', 'genre_ids': [], 'backdrop_path': None, 'adult': False, 'overview': 'A man awakens to find he can see 10 seconds into the future. What disasters could he avert? What lives could he save? What will this mean to the future of mankind. There is, however, just one small problem!', 'poster_path': None}, {'popularity': 0.842, 'id': 396086, 'video': False, 'vote_count': 0, 'vote_average': 0, 'title': 'A Painful Glimpse Into My Writing Process (In Less Than 60 Seconds)', 'release_date': '2005-05-04', 'original_language': 'en', 'original_title': 'A Painful Glimpse Into My Writing Process (In Less Than 60 Seconds)', 'genre_ids': [16], 'backdrop_path': None, 'adult': False, 'overview': 'Dark and humorous, this extremely short film features a stream-of-conscious look at the writing process, told with animated images straight from the subconscious, or somewhere.', 'poster_path': '/1L2v8r8iwFoOiotxj98TR2k42kL.jpg'}]}\n",
      "Failed to append:  7 Seconds\n",
      "17 / 17770  ( 0.0009566685424873382 )\n",
      "{'page': 1, 'total_results': 1, 'total_pages': 1, 'results': [{'popularity': 8.989, 'id': 13701, 'video': False, 'vote_count': 152, 'vote_average': 7.2, 'title': 'Immortal Beloved', 'release_date': '1994-12-16', 'original_language': 'en', 'original_title': 'Immortal Beloved', 'genre_ids': [18, 10402, 10749], 'backdrop_path': '/pioyUlyhf9V4AX4F8flty0mxxpo.jpg', 'adult': False, 'overview': 'The life and death of the legendary Ludwig van Beethoven. Beside all the work he is known for, the composer once wrote a famous love letter to a nameless beloved and the movie tries to find out who this beloved was. Not easy as Beethoven has had many women in his life.', 'poster_path': '/meRFVzGpBJiObWfdtOoNr0UPsP4.jpg'}]}\n",
      "Appended  Immortal Beloved  as  Immortal Beloved\n",
      "18 / 17770  ( 0.0010129431626336523 )\n"
     ]
    },
    {
     "ename": "KeyboardInterrupt",
     "evalue": "",
     "output_type": "error",
     "traceback": [
      "\u001b[0;31m---------------------------------------------------------------------------\u001b[0m",
      "\u001b[0;31mKeyboardInterrupt\u001b[0m                         Traceback (most recent call last)",
      "\u001b[0;32m<ipython-input-245-0d3f72c2c787>\u001b[0m in \u001b[0;36m<module>\u001b[0;34m\u001b[0m\n\u001b[1;32m     19\u001b[0m         \u001b[0mprint\u001b[0m\u001b[0;34m(\u001b[0m\u001b[0;34m\"Failed to append: \"\u001b[0m\u001b[0;34m,\u001b[0m \u001b[0mtitle\u001b[0m\u001b[0;34m)\u001b[0m\u001b[0;34m\u001b[0m\u001b[0;34m\u001b[0m\u001b[0m\n\u001b[1;32m     20\u001b[0m     \u001b[0mprint\u001b[0m\u001b[0;34m(\u001b[0m\u001b[0mi\u001b[0m\u001b[0;34m+\u001b[0m\u001b[0;36m1\u001b[0m\u001b[0;34m,\u001b[0m\u001b[0;34m\"/\"\u001b[0m\u001b[0;34m,\u001b[0m\u001b[0mlen\u001b[0m\u001b[0;34m(\u001b[0m\u001b[0mmovies_dataframe\u001b[0m\u001b[0;34m)\u001b[0m\u001b[0;34m,\u001b[0m\u001b[0;34m\" (\"\u001b[0m\u001b[0;34m,\u001b[0m \u001b[0;34m(\u001b[0m\u001b[0mi\u001b[0m\u001b[0;34m+\u001b[0m\u001b[0;36m1\u001b[0m\u001b[0;34m)\u001b[0m\u001b[0;34m/\u001b[0m\u001b[0mlen\u001b[0m\u001b[0;34m(\u001b[0m\u001b[0mmovies_dataframe\u001b[0m\u001b[0;34m)\u001b[0m\u001b[0;34m,\u001b[0m \u001b[0;34m\")\"\u001b[0m\u001b[0;34m)\u001b[0m\u001b[0;34m\u001b[0m\u001b[0;34m\u001b[0m\u001b[0m\n\u001b[0;32m---> 21\u001b[0;31m     \u001b[0msleep\u001b[0m\u001b[0;34m(\u001b[0m\u001b[0;36m2\u001b[0m\u001b[0;34m)\u001b[0m\u001b[0;34m\u001b[0m\u001b[0;34m\u001b[0m\u001b[0m\n\u001b[0m\u001b[1;32m     22\u001b[0m \u001b[0;34m\u001b[0m\u001b[0m\n\u001b[1;32m     23\u001b[0m \u001b[0mmovies_dataframe\u001b[0m\u001b[0;34m[\u001b[0m\u001b[0;34m:\u001b[0m\u001b[0;36m10\u001b[0m\u001b[0;34m]\u001b[0m\u001b[0;34m\u001b[0m\u001b[0;34m\u001b[0m\u001b[0m\n",
      "\u001b[0;31mKeyboardInterrupt\u001b[0m: "
     ]
    }
   ],
   "source": [
    "movies_dataframe['Budget'] = 0\n",
    "movies_dataframe['Genre'] = ''\n",
    "movies_dataframe['Original_language'] = ''\n",
    "movies_dataframe['Runtime'] = 0\n",
    "movies_dataframe['Complete_scraped'] = 0\n",
    "for i in range(len(movies_dataframe)):\n",
    "    if(movies_dataframe.at[i,'Complete_scraped'] == 0):\n",
    "        title = movies_dataframe.at[i,'Title']\n",
    "        year = movies_dataframe.at[i,'YearOfRelease']\n",
    "        tmdbID = getTheMovieDbId(title, year)\n",
    "        if(tmdbID != -1):\n",
    "            moviedata = getMovieInformation(tmdbID)\n",
    "            print(\"Appended \", title, ' as ', moviedata['title'])\n",
    "            if(len(moviedata)>0):\n",
    "                movies_dataframe.at[i,'Complete_scraped'] = 1\n",
    "                movies_dataframe.at[i,'Budget'] = moviedata['budget']\n",
    "                movies_dataframe.at[i,'Original_language'] = moviedata['original_language']\n",
    "                movies_dataframe.at[i,'Runtime'] = moviedata['runtime']\n",
    "            if(len(moviedata['genres'])>0):\n",
    "                movies_dataframe.at[i,'Genre'] = moviedata['genres'][0]['name']\n",
    "        else:\n",
    "            print(\"Failed to append: \", title)\n",
    "        print(i+1,\"/\",len(movies_dataframe),\" (\", (i+1)/len(movies_dataframe), \")\")\n",
    "        sleep(2) #For not getting banned from the API\n",
    "    else:\n",
    "        print('Already scraped: ', movies_dataframe.at[i,'Title'])\n",
    "    \n",
    "movies_dataframe[:10]\n",
    "\n",
    "movies_dataframe.to_csv('../dataset/movies_with_features.csv', encoding='utf-8')"
   ]
  },
  {
   "cell_type": "code",
   "execution_count": 221,
   "metadata": {
    "ExecuteTime": {
     "end_time": "2019-10-31T21:06:06.971018Z",
     "start_time": "2019-10-31T21:06:06.956724Z"
    }
   },
   "outputs": [
    {
     "data": {
      "text/html": [
       "<div>\n",
       "<style scoped>\n",
       "    .dataframe tbody tr th:only-of-type {\n",
       "        vertical-align: middle;\n",
       "    }\n",
       "\n",
       "    .dataframe tbody tr th {\n",
       "        vertical-align: top;\n",
       "    }\n",
       "\n",
       "    .dataframe thead th {\n",
       "        text-align: right;\n",
       "    }\n",
       "</style>\n",
       "<table border=\"1\" class=\"dataframe\">\n",
       "  <thead>\n",
       "    <tr style=\"text-align: right;\">\n",
       "      <th></th>\n",
       "      <th>MovieID</th>\n",
       "      <th>YearOfRelease</th>\n",
       "      <th>Title</th>\n",
       "    </tr>\n",
       "  </thead>\n",
       "  <tbody>\n",
       "    <tr>\n",
       "      <td>4014</td>\n",
       "      <td>4015</td>\n",
       "      <td>2001.0</td>\n",
       "      <td>The Road to Love</td>\n",
       "    </tr>\n",
       "  </tbody>\n",
       "</table>\n",
       "</div>"
      ],
      "text/plain": [
       "      MovieID  YearOfRelease             Title\n",
       "4014     4015         2001.0  The Road to Love"
      ]
     },
     "execution_count": 221,
     "metadata": {},
     "output_type": "execute_result"
    }
   ],
   "source": [
    "movies_dataframe.loc[movies_dataframe['Title'] == 'The Road to Love']"
   ]
  },
  {
   "cell_type": "code",
   "execution_count": 222,
   "metadata": {
    "ExecuteTime": {
     "end_time": "2019-10-31T21:06:10.267087Z",
     "start_time": "2019-10-31T21:06:10.259446Z"
    }
   },
   "outputs": [
    {
     "data": {
      "text/plain": [
       "2001.0"
      ]
     },
     "execution_count": 222,
     "metadata": {},
     "output_type": "execute_result"
    }
   ],
   "source": [
    "movies_dataframe.at[4014,'YearOfRelease']"
   ]
  },
  {
   "cell_type": "code",
   "execution_count": null,
   "metadata": {},
   "outputs": [],
   "source": []
  },
  {
   "cell_type": "code",
   "execution_count": null,
   "metadata": {},
   "outputs": [],
   "source": []
  },
  {
   "cell_type": "code",
   "execution_count": null,
   "metadata": {},
   "outputs": [],
   "source": []
  },
  {
   "cell_type": "code",
   "execution_count": null,
   "metadata": {},
   "outputs": [],
   "source": []
  },
  {
   "cell_type": "code",
   "execution_count": null,
   "metadata": {},
   "outputs": [],
   "source": []
  },
  {
   "cell_type": "code",
   "execution_count": null,
   "metadata": {},
   "outputs": [],
   "source": []
  },
  {
   "cell_type": "code",
   "execution_count": null,
   "metadata": {},
   "outputs": [],
   "source": []
  },
  {
   "cell_type": "code",
   "execution_count": null,
   "metadata": {},
   "outputs": [],
   "source": []
  },
  {
   "cell_type": "code",
   "execution_count": null,
   "metadata": {},
   "outputs": [],
   "source": []
  }
 ],
 "metadata": {
  "kernelspec": {
   "display_name": "Python 3",
   "language": "python",
   "name": "python3"
  },
  "language_info": {
   "codemirror_mode": {
    "name": "ipython",
    "version": 3
   },
   "file_extension": ".py",
   "mimetype": "text/x-python",
   "name": "python",
   "nbconvert_exporter": "python",
   "pygments_lexer": "ipython3",
   "version": "3.7.4"
  },
  "varInspector": {
   "cols": {
    "lenName": 16,
    "lenType": 16,
    "lenVar": 40
   },
   "kernels_config": {
    "python": {
     "delete_cmd_postfix": "",
     "delete_cmd_prefix": "del ",
     "library": "var_list.py",
     "varRefreshCmd": "print(var_dic_list())"
    },
    "r": {
     "delete_cmd_postfix": ") ",
     "delete_cmd_prefix": "rm(",
     "library": "var_list.r",
     "varRefreshCmd": "cat(var_dic_list()) "
    }
   },
   "types_to_exclude": [
    "module",
    "function",
    "builtin_function_or_method",
    "instance",
    "_Feature"
   ],
   "window_display": false
  }
 },
 "nbformat": 4,
 "nbformat_minor": 2
}
