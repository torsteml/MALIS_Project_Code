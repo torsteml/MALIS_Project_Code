{
 "cells": [
  {
   "cell_type": "code",
   "execution_count": 2,
   "metadata": {},
   "outputs": [],
   "source": [
    "import seaborn as sns\n",
    "import numpy as np\n",
    "import pandas as pd\n",
    "from matplotlib import pyplot as plt    "
   ]
  },
  {
   "cell_type": "code",
   "execution_count": 3,
   "metadata": {},
   "outputs": [
    {
     "name": "stderr",
     "output_type": "stream",
     "text": [
      "/usr/local/lib/python3.7/site-packages/IPython/core/interactiveshell.py:3058: DtypeWarning: Columns (7,8) have mixed types. Specify dtype option on import or set low_memory=False.\n",
      "  interactivity=interactivity, compiler=compiler, result=result)\n"
     ]
    }
   ],
   "source": [
    "#Read dataset\n",
    "movies_with_customer_ratings_loaded = pd.read_csv('../dataset/prepared/movies_with_customer_ratings_and_all_features.csv')"
   ]
  },
  {
   "cell_type": "code",
   "execution_count": 4,
   "metadata": {},
   "outputs": [],
   "source": [
    "#So we dont have to reload the dataset every time\n",
    "movies_with_customer_ratings = movies_with_customer_ratings_loaded"
   ]
  },
  {
   "cell_type": "code",
   "execution_count": 5,
   "metadata": {},
   "outputs": [
    {
     "data": {
      "text/html": [
       "<div>\n",
       "<style scoped>\n",
       "    .dataframe tbody tr th:only-of-type {\n",
       "        vertical-align: middle;\n",
       "    }\n",
       "\n",
       "    .dataframe tbody tr th {\n",
       "        vertical-align: top;\n",
       "    }\n",
       "\n",
       "    .dataframe thead th {\n",
       "        text-align: right;\n",
       "    }\n",
       "</style>\n",
       "<table border=\"1\" class=\"dataframe\">\n",
       "  <thead>\n",
       "    <tr style=\"text-align: right;\">\n",
       "      <th></th>\n",
       "      <th>MovieID</th>\n",
       "      <th>Title</th>\n",
       "    </tr>\n",
       "  </thead>\n",
       "  <tbody>\n",
       "    <tr>\n",
       "      <th>0</th>\n",
       "      <td>1</td>\n",
       "      <td>Dinosaur Planet</td>\n",
       "    </tr>\n",
       "    <tr>\n",
       "      <th>1</th>\n",
       "      <td>2</td>\n",
       "      <td>Isle of Man TT 2004 Review</td>\n",
       "    </tr>\n",
       "    <tr>\n",
       "      <th>2</th>\n",
       "      <td>3</td>\n",
       "      <td>Character</td>\n",
       "    </tr>\n",
       "    <tr>\n",
       "      <th>3</th>\n",
       "      <td>4</td>\n",
       "      <td>Paula Abdul's Get Up &amp; Dance</td>\n",
       "    </tr>\n",
       "    <tr>\n",
       "      <th>4</th>\n",
       "      <td>5</td>\n",
       "      <td>The Rise and Fall of ECW</td>\n",
       "    </tr>\n",
       "  </tbody>\n",
       "</table>\n",
       "</div>"
      ],
      "text/plain": [
       "   MovieID                         Title\n",
       "0        1               Dinosaur Planet\n",
       "1        2    Isle of Man TT 2004 Review\n",
       "2        3                     Character\n",
       "3        4  Paula Abdul's Get Up & Dance\n",
       "4        5      The Rise and Fall of ECW"
      ]
     },
     "execution_count": 5,
     "metadata": {},
     "output_type": "execute_result"
    }
   ],
   "source": [
    "#Store titles and MovieID in another dataframe as we can not use this for our model\n",
    "movie_titles = movies_with_customer_ratings[['MovieID','Title']].drop_duplicates().reset_index().drop('index', axis=1)\n",
    "movie_titles.head()"
   ]
  },
  {
   "cell_type": "code",
   "execution_count": 6,
   "metadata": {},
   "outputs": [],
   "source": [
    "#Dropping unnessecarry columns\n",
    "movies_with_customer_ratings = movies_with_customer_ratings.drop(['Budget','Genre','Original_language','Runtime','Title'], axis=1)\n",
    "\n",
    "\n",
    "\n"
   ]
  },
  {
   "cell_type": "code",
   "execution_count": 7,
   "metadata": {},
   "outputs": [
    {
     "data": {
      "text/html": [
       "<div>\n",
       "<style scoped>\n",
       "    .dataframe tbody tr th:only-of-type {\n",
       "        vertical-align: middle;\n",
       "    }\n",
       "\n",
       "    .dataframe tbody tr th {\n",
       "        vertical-align: top;\n",
       "    }\n",
       "\n",
       "    .dataframe thead th {\n",
       "        text-align: right;\n",
       "    }\n",
       "</style>\n",
       "<table border=\"1\" class=\"dataframe\">\n",
       "  <thead>\n",
       "    <tr style=\"text-align: right;\">\n",
       "      <th></th>\n",
       "      <th>CustomerID</th>\n",
       "      <th>Rating</th>\n",
       "      <th>MovieID</th>\n",
       "      <th>YearOfRelease</th>\n",
       "      <th>year_of_rating</th>\n",
       "      <th>month_of_rating</th>\n",
       "      <th>day_of_rating</th>\n",
       "    </tr>\n",
       "  </thead>\n",
       "  <tbody>\n",
       "    <tr>\n",
       "      <th>8885790</th>\n",
       "      <td>2299056</td>\n",
       "      <td>4</td>\n",
       "      <td>2000</td>\n",
       "      <td>1994</td>\n",
       "      <td>2005</td>\n",
       "      <td>11</td>\n",
       "      <td>15</td>\n",
       "    </tr>\n",
       "    <tr>\n",
       "      <th>8885791</th>\n",
       "      <td>2357791</td>\n",
       "      <td>4</td>\n",
       "      <td>2000</td>\n",
       "      <td>1994</td>\n",
       "      <td>2005</td>\n",
       "      <td>11</td>\n",
       "      <td>16</td>\n",
       "    </tr>\n",
       "    <tr>\n",
       "      <th>8885792</th>\n",
       "      <td>2418109</td>\n",
       "      <td>3</td>\n",
       "      <td>2000</td>\n",
       "      <td>1994</td>\n",
       "      <td>2005</td>\n",
       "      <td>11</td>\n",
       "      <td>25</td>\n",
       "    </tr>\n",
       "    <tr>\n",
       "      <th>8885793</th>\n",
       "      <td>2513682</td>\n",
       "      <td>4</td>\n",
       "      <td>2000</td>\n",
       "      <td>1994</td>\n",
       "      <td>2005</td>\n",
       "      <td>12</td>\n",
       "      <td>13</td>\n",
       "    </tr>\n",
       "    <tr>\n",
       "      <th>8885794</th>\n",
       "      <td>575058</td>\n",
       "      <td>4</td>\n",
       "      <td>2000</td>\n",
       "      <td>1994</td>\n",
       "      <td>2005</td>\n",
       "      <td>12</td>\n",
       "      <td>27</td>\n",
       "    </tr>\n",
       "  </tbody>\n",
       "</table>\n",
       "</div>"
      ],
      "text/plain": [
       "         CustomerID  Rating  MovieID  YearOfRelease  year_of_rating  \\\n",
       "8885790     2299056       4     2000           1994            2005   \n",
       "8885791     2357791       4     2000           1994            2005   \n",
       "8885792     2418109       3     2000           1994            2005   \n",
       "8885793     2513682       4     2000           1994            2005   \n",
       "8885794      575058       4     2000           1994            2005   \n",
       "\n",
       "         month_of_rating  day_of_rating  \n",
       "8885790               11             15  \n",
       "8885791               11             16  \n",
       "8885792               11             25  \n",
       "8885793               12             13  \n",
       "8885794               12             27  "
      ]
     },
     "execution_count": 7,
     "metadata": {},
     "output_type": "execute_result"
    }
   ],
   "source": [
    "movies_with_customer_ratings = movies_with_customer_ratings.drop(['Unnamed: 0'], axis=1)\n",
    "movies_with_customer_ratings.tail()"
   ]
  },
  {
   "cell_type": "code",
   "execution_count": 8,
   "metadata": {},
   "outputs": [
    {
     "name": "stdout",
     "output_type": "stream",
     "text": [
      "Number of movies:  1885\n",
      "Number of customers:  194817\n"
     ]
    },
    {
     "data": {
      "text/plain": [
       "Text(0, 0.5, 'Number of ratings')"
      ]
     },
     "execution_count": 8,
     "metadata": {},
     "output_type": "execute_result"
    },
    {
     "data": {
      "image/png": "[encoded data removed]",
      "text/plain": [
       "<Figure size 432x288 with 1 Axes>"
      ]
     },
     "metadata": {
      "needs_background": "light"
     },
     "output_type": "display_data"
    }
   ],
   "source": [
    "#Plot the distributions of the ratings\n",
    "\n",
    "movie_count = movies_with_customer_ratings['MovieID'].nunique()\n",
    "customer_count = movies_with_customer_ratings['CustomerID'].nunique()\n",
    "\n",
    "print(\"Number of movies: \", movie_count)\n",
    "print(\"Number of customers: \", customer_count)\n",
    "movies_with_customer_ratings['Rating'].hist()\n",
    "plt.title('Distributions of ratings')\n",
    "plt.xlabel('Rating')\n",
    "plt.ylabel('Number of ratings')\n",
    "\n",
    "#Rating seems very positive. Users do not care to rate negative movies"
   ]
  },
  {
   "cell_type": "code",
   "execution_count": 9,
   "metadata": {},
   "outputs": [
    {
     "data": {
      "text/plain": [
       "<matplotlib.axes._subplots.AxesSubplot at 0x1172e9790>"
      ]
     },
     "execution_count": 9,
     "metadata": {},
     "output_type": "execute_result"
    },
    {
     "data": {
      "image/png": "[encoded data removed]",
      "text/plain": [
       "<Figure size 432x288 with 1 Axes>"
      ]
     },
     "metadata": {
      "needs_background": "light"
     },
     "output_type": "display_data"
    }
   ],
   "source": [
    "#Plot the distributions of the number of ratings for a movie\n",
    "movies_with_customer_ratings['MovieID'].hist(bins=100)\n",
    "\n",
    "#It is clear that most movies are rated between 50'000 and 350'000 times"
   ]
  },
  {
   "cell_type": "code",
   "execution_count": 17,
   "metadata": {},
   "outputs": [
    {
     "name": "stdout",
     "output_type": "stream",
     "text": [
      "   Rating\n",
      "0       3\n",
      "1       5\n",
      "2       4\n",
      "3       4\n",
      "4       3\n",
      "   YearOfRelease\n",
      "0           2003\n",
      "1           2003\n",
      "2           2003\n",
      "3           2003\n",
      "4           2003\n"
     ]
    },
    {
     "ename": "NameError",
     "evalue": "name 'Rating' is not defined",
     "output_type": "error",
     "traceback": [
      "\u001b[0;31m---------------------------------------------------------------------------\u001b[0m",
      "\u001b[0;31mNameError\u001b[0m                                 Traceback (most recent call last)",
      "\u001b[0;32m<ipython-input-17-5d47e11eae56>\u001b[0m in \u001b[0;36m<module>\u001b[0;34m\u001b[0m\n\u001b[1;32m      3\u001b[0m \u001b[0mprint\u001b[0m\u001b[0;34m(\u001b[0m\u001b[0mratings\u001b[0m\u001b[0;34m.\u001b[0m\u001b[0mhead\u001b[0m\u001b[0;34m(\u001b[0m\u001b[0;34m)\u001b[0m\u001b[0;34m)\u001b[0m\u001b[0;34m\u001b[0m\u001b[0;34m\u001b[0m\u001b[0m\n\u001b[1;32m      4\u001b[0m \u001b[0mprint\u001b[0m\u001b[0;34m(\u001b[0m\u001b[0myearOfRelease\u001b[0m\u001b[0;34m.\u001b[0m\u001b[0mhead\u001b[0m\u001b[0;34m(\u001b[0m\u001b[0;34m)\u001b[0m\u001b[0;34m)\u001b[0m\u001b[0;34m\u001b[0m\u001b[0;34m\u001b[0m\u001b[0m\n\u001b[0;32m----> 5\u001b[0;31m \u001b[0msns\u001b[0m\u001b[0;34m.\u001b[0m\u001b[0mscatterplot\u001b[0m\u001b[0;34m(\u001b[0m\u001b[0mx\u001b[0m\u001b[0;34m=\u001b[0m\u001b[0mRating\u001b[0m\u001b[0;34m,\u001b[0m \u001b[0my\u001b[0m\u001b[0;34m=\u001b[0m\u001b[0mYearOfRelease\u001b[0m\u001b[0;34m,\u001b[0m \u001b[0mdata\u001b[0m\u001b[0;34m=\u001b[0m\u001b[0mmovies_with_customer_ratings\u001b[0m\u001b[0;34m)\u001b[0m\u001b[0;34m\u001b[0m\u001b[0;34m\u001b[0m\u001b[0m\n\u001b[0m",
      "\u001b[0;31mNameError\u001b[0m: name 'Rating' is not defined"
     ]
    }
   ],
   "source": [
    "ratings = movies_with_customer_ratings[['Rating']]\n",
    "yearOfRelease = movies_with_customer_ratings[['YearOfRelease']]\n",
    "print(ratings.head())\n",
    "print(yearOfRelease.head())\n",
    "sns.scatterplot(x='Rating', y='YearOfRelease', data=movies_with_customer_ratings)"
   ]
  },
  {
   "cell_type": "code",
   "execution_count": null,
   "metadata": {},
   "outputs": [],
   "source": [
    "from sklearn.model_selection import train_test_split\n",
    "#Split into test and training set\n",
    "#https://stackoverflow.com/questions/13610074/is-there-a-rule-of-thumb-for-how-to-divide-a-dataset-into-training-and-validation\n",
    "\n",
    "target = movies_with_customer_ratings['Rating'].tolist()\n",
    "data = movies_with_customer_ratings.drop(['Rating'], axis=1)\n",
    "\n",
    "data_train_set, data_test_set, target_train_set, target_test_set = train_test_split(data, target, test_size=0.2, random_state=42)\n",
    "\n",
    "#Train (0.8) \n",
    "\n",
    "#Validation (0.04=0.2*0.2)\n",
    "\n",
    "#Test (0.16=0.2*0.8)"
   ]
  },
  {
   "cell_type": "code",
   "execution_count": null,
   "metadata": {},
   "outputs": [],
   "source": [
    "#Unsupervised\n",
    "from sklearn.neighbors import KNeighborsClassifier\n",
    "neigh = KNeighborsClassifier(n_neighbors=3)\n",
    "neigh.fit(data_train_set, target_train_set)\n"
   ]
  },
  {
   "cell_type": "code",
   "execution_count": null,
   "metadata": {},
   "outputs": [],
   "source": [
    "#data = [[648614, 2999, 2003, 2019, 12, 3]] \n",
    "#X = pd.DataFrame(data, columns = ['CustomerID', 'MovieID', 'YearOfRelease', 'year_of_rating', 'month_of_rating', 'day_of_rating'])\n",
    "target_predicted = neigh.predict(data_test_set)\n",
    "from sklearn.metrics import accuracy_score\n",
    "accuracy_score(target_test_set, target_predicted)"
   ]
  },
  {
   "cell_type": "code",
   "execution_count": null,
   "metadata": {},
   "outputs": [],
   "source": [
    "#Supervised\n",
    "from sklearn import svm\n",
    "clf = svm.SVC()\n",
    "clf.fit(data_train_set, target_train_set)"
   ]
  },
  {
   "cell_type": "code",
   "execution_count": null,
   "metadata": {},
   "outputs": [],
   "source": [
    "target_predicted = clf.predict(data_test_set)\n",
    "accuracy_score(target_test_set, target_predicted)"
   ]
  },
  {
   "cell_type": "code",
   "execution_count": null,
   "metadata": {},
   "outputs": [],
   "source": []
  },
  {
   "cell_type": "code",
   "execution_count": null,
   "metadata": {},
   "outputs": [],
   "source": []
  },
  {
   "cell_type": "code",
   "execution_count": null,
   "metadata": {},
   "outputs": [],
   "source": []
  },
  {
   "cell_type": "code",
   "execution_count": null,
   "metadata": {},
   "outputs": [],
   "source": []
  },
  {
   "cell_type": "code",
   "execution_count": null,
   "metadata": {},
   "outputs": [],
   "source": []
  },
  {
   "cell_type": "code",
   "execution_count": null,
   "metadata": {},
   "outputs": [],
   "source": []
  },
  {
   "cell_type": "code",
   "execution_count": null,
   "metadata": {},
   "outputs": [],
   "source": []
  }
 ],
 "metadata": {
  "kernelspec": {
   "display_name": "Python 3",
   "language": "python",
   "name": "python3"
  },
  "language_info": {
   "codemirror_mode": {
    "name": "ipython",
    "version": 3
   },
   "file_extension": ".py",
   "mimetype": "text/x-python",
   "name": "python",
   "nbconvert_exporter": "python",
   "pygments_lexer": "ipython3",
   "version": "3.7.5"
  }
 },
 "nbformat": 4,
 "nbformat_minor": 2
}
