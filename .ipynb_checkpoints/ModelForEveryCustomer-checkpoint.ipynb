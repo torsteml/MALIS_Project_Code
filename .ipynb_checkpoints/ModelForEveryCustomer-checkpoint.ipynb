{
 "cells": [
  {
   "cell_type": "code",
   "execution_count": 1,
   "metadata": {},
   "outputs": [],
   "source": [
    "import seaborn as sns\n",
    "import numpy as np\n",
    "import pandas as pd\n",
    "from matplotlib import pyplot as plt   "
   ]
  },
  {
   "cell_type": "code",
   "execution_count": 2,
   "metadata": {},
   "outputs": [
    {
     "name": "stderr",
     "output_type": "stream",
     "text": [
      "/usr/local/lib/python3.7/site-packages/IPython/core/interactiveshell.py:3058: DtypeWarning: Columns (7,8) have mixed types. Specify dtype option on import or set low_memory=False.\n",
      "  interactivity=interactivity, compiler=compiler, result=result)\n"
     ]
    }
   ],
   "source": [
    "#Read dataset\n",
    "movies_with_customer_ratings_loaded = pd.read_csv('../dataset/prepared/movies_with_customer_ratings_and_all_features.csv')"
   ]
  },
  {
   "cell_type": "code",
   "execution_count": 64,
   "metadata": {},
   "outputs": [],
   "source": [
    "#So we dont have to reload the dataset every time\n",
    "movies_with_customer_ratings = movies_with_customer_ratings_loaded"
   ]
  },
  {
   "cell_type": "code",
   "execution_count": 65,
   "metadata": {},
   "outputs": [
    {
     "data": {
      "text/html": [
       "<div>\n",
       "<style scoped>\n",
       "    .dataframe tbody tr th:only-of-type {\n",
       "        vertical-align: middle;\n",
       "    }\n",
       "\n",
       "    .dataframe tbody tr th {\n",
       "        vertical-align: top;\n",
       "    }\n",
       "\n",
       "    .dataframe thead th {\n",
       "        text-align: right;\n",
       "    }\n",
       "</style>\n",
       "<table border=\"1\" class=\"dataframe\">\n",
       "  <thead>\n",
       "    <tr style=\"text-align: right;\">\n",
       "      <th></th>\n",
       "      <th>CustomerID</th>\n",
       "      <th>Rating</th>\n",
       "      <th>MovieID</th>\n",
       "      <th>YearOfRelease</th>\n",
       "      <th>Title</th>\n",
       "      <th>Budget</th>\n",
       "      <th>Genre</th>\n",
       "      <th>Original_language</th>\n",
       "      <th>Runtime</th>\n",
       "      <th>year_of_rating</th>\n",
       "      <th>month_of_rating</th>\n",
       "      <th>day_of_rating</th>\n",
       "    </tr>\n",
       "  </thead>\n",
       "  <tbody>\n",
       "    <tr>\n",
       "      <th>0</th>\n",
       "      <td>1488844</td>\n",
       "      <td>3</td>\n",
       "      <td>1</td>\n",
       "      <td>2003</td>\n",
       "      <td>Dinosaur Planet</td>\n",
       "      <td>0</td>\n",
       "      <td>NaN</td>\n",
       "      <td>NaN</td>\n",
       "      <td>0.0</td>\n",
       "      <td>2005</td>\n",
       "      <td>9</td>\n",
       "      <td>6</td>\n",
       "    </tr>\n",
       "    <tr>\n",
       "      <th>1</th>\n",
       "      <td>822109</td>\n",
       "      <td>5</td>\n",
       "      <td>1</td>\n",
       "      <td>2003</td>\n",
       "      <td>Dinosaur Planet</td>\n",
       "      <td>0</td>\n",
       "      <td>NaN</td>\n",
       "      <td>NaN</td>\n",
       "      <td>0.0</td>\n",
       "      <td>2005</td>\n",
       "      <td>5</td>\n",
       "      <td>13</td>\n",
       "    </tr>\n",
       "    <tr>\n",
       "      <th>2</th>\n",
       "      <td>885013</td>\n",
       "      <td>4</td>\n",
       "      <td>1</td>\n",
       "      <td>2003</td>\n",
       "      <td>Dinosaur Planet</td>\n",
       "      <td>0</td>\n",
       "      <td>NaN</td>\n",
       "      <td>NaN</td>\n",
       "      <td>0.0</td>\n",
       "      <td>2005</td>\n",
       "      <td>10</td>\n",
       "      <td>19</td>\n",
       "    </tr>\n",
       "    <tr>\n",
       "      <th>3</th>\n",
       "      <td>30878</td>\n",
       "      <td>4</td>\n",
       "      <td>1</td>\n",
       "      <td>2003</td>\n",
       "      <td>Dinosaur Planet</td>\n",
       "      <td>0</td>\n",
       "      <td>NaN</td>\n",
       "      <td>NaN</td>\n",
       "      <td>0.0</td>\n",
       "      <td>2005</td>\n",
       "      <td>12</td>\n",
       "      <td>26</td>\n",
       "    </tr>\n",
       "    <tr>\n",
       "      <th>4</th>\n",
       "      <td>823519</td>\n",
       "      <td>3</td>\n",
       "      <td>1</td>\n",
       "      <td>2003</td>\n",
       "      <td>Dinosaur Planet</td>\n",
       "      <td>0</td>\n",
       "      <td>NaN</td>\n",
       "      <td>NaN</td>\n",
       "      <td>0.0</td>\n",
       "      <td>2004</td>\n",
       "      <td>5</td>\n",
       "      <td>3</td>\n",
       "    </tr>\n",
       "  </tbody>\n",
       "</table>\n",
       "</div>"
      ],
      "text/plain": [
       "   CustomerID  Rating  MovieID  YearOfRelease            Title  Budget Genre  \\\n",
       "0     1488844       3        1           2003  Dinosaur Planet       0   NaN   \n",
       "1      822109       5        1           2003  Dinosaur Planet       0   NaN   \n",
       "2      885013       4        1           2003  Dinosaur Planet       0   NaN   \n",
       "3       30878       4        1           2003  Dinosaur Planet       0   NaN   \n",
       "4      823519       3        1           2003  Dinosaur Planet       0   NaN   \n",
       "\n",
       "  Original_language  Runtime  year_of_rating  month_of_rating  day_of_rating  \n",
       "0               NaN      0.0            2005                9              6  \n",
       "1               NaN      0.0            2005                5             13  \n",
       "2               NaN      0.0            2005               10             19  \n",
       "3               NaN      0.0            2005               12             26  \n",
       "4               NaN      0.0            2004                5              3  "
      ]
     },
     "execution_count": 65,
     "metadata": {},
     "output_type": "execute_result"
    }
   ],
   "source": [
    "movies_with_customer_ratings = movies_with_customer_ratings.drop(['Unnamed: 0'], axis=1)\n",
    "movies_with_customer_ratings.head()"
   ]
  },
  {
   "cell_type": "code",
   "execution_count": 66,
   "metadata": {},
   "outputs": [
    {
     "name": "stdout",
     "output_type": "stream",
     "text": [
      "Empty DataFrame\n",
      "Columns: []\n",
      "Index: [6, 7, 10, 59, 79, 87, 97, 116, 131, 134, 169, 183, 188, 192, 195, 199, 201, 250, 265, 266, 268, 283, 291, 296, 298, 301, 302, 304, 305, 307, 333, 358, 383, 384, 424, 437, 462, 477, 478, 481, 485, 495, 508, 527, 536, 544, 561, 578, 592, 596, 602, 609, 614, 684, 695, 719, 735, 742, 744, 750, 756, 766, 769, 785, 788, 815, 834, 840, 857, 906, 911, 920, 933, 979, 981, 998, 1038, 1044, 1067, 1070, 1082, 1086, 1117, 1146, 1179, 1186, 1211, 1221, 1243, 1276, 1295, 1310, 1315, 1323, 1331, 1333, 1346, 1353, 1357, 1374, ...]\n",
      "\n",
      "[194817 rows x 0 columns]\n"
     ]
    }
   ],
   "source": [
    "#How many unique customers do we have?\n",
    "number_unique_customers = movies_with_customer_ratings[['CustomerID']].groupby('CustomerID').count()\n",
    "print(number_unique_customers)"
   ]
  },
  {
   "cell_type": "code",
   "execution_count": 109,
   "metadata": {},
   "outputs": [
    {
     "data": {
      "text/html": [
       "<div>\n",
       "<style scoped>\n",
       "    .dataframe tbody tr th:only-of-type {\n",
       "        vertical-align: middle;\n",
       "    }\n",
       "\n",
       "    .dataframe tbody tr th {\n",
       "        vertical-align: top;\n",
       "    }\n",
       "\n",
       "    .dataframe thead th {\n",
       "        text-align: right;\n",
       "    }\n",
       "</style>\n",
       "<table border=\"1\" class=\"dataframe\">\n",
       "  <thead>\n",
       "    <tr style=\"text-align: right;\">\n",
       "      <th></th>\n",
       "      <th>CustomerID</th>\n",
       "      <th>Rating</th>\n",
       "      <th>MovieID</th>\n",
       "      <th>YearOfRelease</th>\n",
       "      <th>Title</th>\n",
       "      <th>Budget</th>\n",
       "      <th>Genre</th>\n",
       "      <th>Original_language</th>\n",
       "      <th>Runtime</th>\n",
       "      <th>year_of_rating</th>\n",
       "      <th>month_of_rating</th>\n",
       "      <th>day_of_rating</th>\n",
       "    </tr>\n",
       "  </thead>\n",
       "  <tbody>\n",
       "    <tr>\n",
       "      <th>3</th>\n",
       "      <td>30878</td>\n",
       "      <td>4</td>\n",
       "      <td>1</td>\n",
       "      <td>2003</td>\n",
       "      <td>Dinosaur Planet</td>\n",
       "      <td>0</td>\n",
       "      <td>NaN</td>\n",
       "      <td>NaN</td>\n",
       "      <td>0.0</td>\n",
       "      <td>2005</td>\n",
       "      <td>12</td>\n",
       "      <td>26</td>\n",
       "    </tr>\n",
       "    <tr>\n",
       "      <th>2400</th>\n",
       "      <td>30878</td>\n",
       "      <td>1</td>\n",
       "      <td>5</td>\n",
       "      <td>2004</td>\n",
       "      <td>The Rise and Fall of ECW</td>\n",
       "      <td>0</td>\n",
       "      <td>NaN</td>\n",
       "      <td>NaN</td>\n",
       "      <td>0.0</td>\n",
       "      <td>2005</td>\n",
       "      <td>4</td>\n",
       "      <td>27</td>\n",
       "    </tr>\n",
       "    <tr>\n",
       "      <th>24589</th>\n",
       "      <td>30878</td>\n",
       "      <td>3</td>\n",
       "      <td>18</td>\n",
       "      <td>1994</td>\n",
       "      <td>Immortal Beloved</td>\n",
       "      <td>120</td>\n",
       "      <td>Drama</td>\n",
       "      <td>en</td>\n",
       "      <td>121.0</td>\n",
       "      <td>2004</td>\n",
       "      <td>10</td>\n",
       "      <td>19</td>\n",
       "    </tr>\n",
       "    <tr>\n",
       "      <th>43472</th>\n",
       "      <td>30878</td>\n",
       "      <td>3</td>\n",
       "      <td>28</td>\n",
       "      <td>2002</td>\n",
       "      <td>Lilo and Stitch</td>\n",
       "      <td>80000000</td>\n",
       "      <td>Animation</td>\n",
       "      <td>en</td>\n",
       "      <td>85.0</td>\n",
       "      <td>2004</td>\n",
       "      <td>8</td>\n",
       "      <td>8</td>\n",
       "    </tr>\n",
       "    <tr>\n",
       "      <th>79359</th>\n",
       "      <td>30878</td>\n",
       "      <td>4</td>\n",
       "      <td>30</td>\n",
       "      <td>2003</td>\n",
       "      <td>Something's Gotta Give</td>\n",
       "      <td>80000000</td>\n",
       "      <td>Drama</td>\n",
       "      <td>en</td>\n",
       "      <td>128.0</td>\n",
       "      <td>2004</td>\n",
       "      <td>6</td>\n",
       "      <td>10</td>\n",
       "    </tr>\n",
       "  </tbody>\n",
       "</table>\n",
       "</div>"
      ],
      "text/plain": [
       "       CustomerID  Rating  MovieID  YearOfRelease                     Title  \\\n",
       "3           30878       4        1           2003           Dinosaur Planet   \n",
       "2400        30878       1        5           2004  The Rise and Fall of ECW   \n",
       "24589       30878       3       18           1994          Immortal Beloved   \n",
       "43472       30878       3       28           2002           Lilo and Stitch   \n",
       "79359       30878       4       30           2003    Something's Gotta Give   \n",
       "\n",
       "         Budget      Genre Original_language  Runtime  year_of_rating  \\\n",
       "3             0        NaN               NaN      0.0            2005   \n",
       "2400          0        NaN               NaN      0.0            2005   \n",
       "24589       120      Drama                en    121.0            2004   \n",
       "43472  80000000  Animation                en     85.0            2004   \n",
       "79359  80000000      Drama                en    128.0            2004   \n",
       "\n",
       "       month_of_rating  day_of_rating  \n",
       "3                   12             26  \n",
       "2400                 4             27  \n",
       "24589               10             19  \n",
       "43472                8              8  \n",
       "79359                6             10  "
      ]
     },
     "execution_count": 109,
     "metadata": {},
     "output_type": "execute_result"
    }
   ],
   "source": [
    "#Try for one customer\n",
    "#Customer 30878\n",
    "movies_30878 = movies_with_customer_ratings.loc[movies_with_customer_ratings['CustomerID'] == 30878]\n",
    "movies_30878.head()"
   ]
  },
  {
   "cell_type": "code",
   "execution_count": 110,
   "metadata": {},
   "outputs": [
    {
     "data": {
      "text/html": [
       "<div>\n",
       "<style scoped>\n",
       "    .dataframe tbody tr th:only-of-type {\n",
       "        vertical-align: middle;\n",
       "    }\n",
       "\n",
       "    .dataframe tbody tr th {\n",
       "        vertical-align: top;\n",
       "    }\n",
       "\n",
       "    .dataframe thead th {\n",
       "        text-align: right;\n",
       "    }\n",
       "</style>\n",
       "<table border=\"1\" class=\"dataframe\">\n",
       "  <thead>\n",
       "    <tr style=\"text-align: right;\">\n",
       "      <th></th>\n",
       "      <th>MovieID</th>\n",
       "      <th>Title</th>\n",
       "    </tr>\n",
       "  </thead>\n",
       "  <tbody>\n",
       "    <tr>\n",
       "      <th>0</th>\n",
       "      <td>1</td>\n",
       "      <td>Dinosaur Planet</td>\n",
       "    </tr>\n",
       "    <tr>\n",
       "      <th>1</th>\n",
       "      <td>5</td>\n",
       "      <td>The Rise and Fall of ECW</td>\n",
       "    </tr>\n",
       "    <tr>\n",
       "      <th>2</th>\n",
       "      <td>18</td>\n",
       "      <td>Immortal Beloved</td>\n",
       "    </tr>\n",
       "    <tr>\n",
       "      <th>3</th>\n",
       "      <td>28</td>\n",
       "      <td>Lilo and Stitch</td>\n",
       "    </tr>\n",
       "    <tr>\n",
       "      <th>4</th>\n",
       "      <td>30</td>\n",
       "      <td>Something's Gotta Give</td>\n",
       "    </tr>\n",
       "  </tbody>\n",
       "</table>\n",
       "</div>"
      ],
      "text/plain": [
       "   MovieID                     Title\n",
       "0        1           Dinosaur Planet\n",
       "1        5  The Rise and Fall of ECW\n",
       "2       18          Immortal Beloved\n",
       "3       28           Lilo and Stitch\n",
       "4       30    Something's Gotta Give"
      ]
     },
     "execution_count": 110,
     "metadata": {},
     "output_type": "execute_result"
    }
   ],
   "source": [
    "movie_titles_30878 = movies_30878[['MovieID','Title']].drop_duplicates().reset_index().drop('index', axis=1)\n",
    "movies_30878 = movies_30878.drop('Title', axis=1)\n",
    "movie_titles_30878.head()"
   ]
  },
  {
   "cell_type": "code",
   "execution_count": 111,
   "metadata": {},
   "outputs": [
    {
     "data": {
      "text/html": [
       "<div>\n",
       "<style scoped>\n",
       "    .dataframe tbody tr th:only-of-type {\n",
       "        vertical-align: middle;\n",
       "    }\n",
       "\n",
       "    .dataframe tbody tr th {\n",
       "        vertical-align: top;\n",
       "    }\n",
       "\n",
       "    .dataframe thead th {\n",
       "        text-align: right;\n",
       "    }\n",
       "</style>\n",
       "<table border=\"1\" class=\"dataframe\">\n",
       "  <thead>\n",
       "    <tr style=\"text-align: right;\">\n",
       "      <th></th>\n",
       "      <th>CustomerID</th>\n",
       "      <th>Rating</th>\n",
       "      <th>MovieID</th>\n",
       "      <th>YearOfRelease</th>\n",
       "      <th>year_of_rating</th>\n",
       "      <th>month_of_rating</th>\n",
       "      <th>day_of_rating</th>\n",
       "    </tr>\n",
       "  </thead>\n",
       "  <tbody>\n",
       "    <tr>\n",
       "      <th>3</th>\n",
       "      <td>30878</td>\n",
       "      <td>4</td>\n",
       "      <td>1</td>\n",
       "      <td>2003</td>\n",
       "      <td>2005</td>\n",
       "      <td>12</td>\n",
       "      <td>26</td>\n",
       "    </tr>\n",
       "    <tr>\n",
       "      <th>2400</th>\n",
       "      <td>30878</td>\n",
       "      <td>1</td>\n",
       "      <td>5</td>\n",
       "      <td>2004</td>\n",
       "      <td>2005</td>\n",
       "      <td>4</td>\n",
       "      <td>27</td>\n",
       "    </tr>\n",
       "    <tr>\n",
       "      <th>24589</th>\n",
       "      <td>30878</td>\n",
       "      <td>3</td>\n",
       "      <td>18</td>\n",
       "      <td>1994</td>\n",
       "      <td>2004</td>\n",
       "      <td>10</td>\n",
       "      <td>19</td>\n",
       "    </tr>\n",
       "    <tr>\n",
       "      <th>43472</th>\n",
       "      <td>30878</td>\n",
       "      <td>3</td>\n",
       "      <td>28</td>\n",
       "      <td>2002</td>\n",
       "      <td>2004</td>\n",
       "      <td>8</td>\n",
       "      <td>8</td>\n",
       "    </tr>\n",
       "    <tr>\n",
       "      <th>79359</th>\n",
       "      <td>30878</td>\n",
       "      <td>4</td>\n",
       "      <td>30</td>\n",
       "      <td>2003</td>\n",
       "      <td>2004</td>\n",
       "      <td>6</td>\n",
       "      <td>10</td>\n",
       "    </tr>\n",
       "  </tbody>\n",
       "</table>\n",
       "</div>"
      ],
      "text/plain": [
       "       CustomerID  Rating  MovieID  YearOfRelease  year_of_rating  \\\n",
       "3           30878       4        1           2003            2005   \n",
       "2400        30878       1        5           2004            2005   \n",
       "24589       30878       3       18           1994            2004   \n",
       "43472       30878       3       28           2002            2004   \n",
       "79359       30878       4       30           2003            2004   \n",
       "\n",
       "       month_of_rating  day_of_rating  \n",
       "3                   12             26  \n",
       "2400                 4             27  \n",
       "24589               10             19  \n",
       "43472                8              8  \n",
       "79359                6             10  "
      ]
     },
     "execution_count": 111,
     "metadata": {},
     "output_type": "execute_result"
    }
   ],
   "source": [
    "#Feature extraction\n",
    "movies_30878 = movies_30878.drop(['Genre', 'Budget','Runtime','Original_language'], axis=1)\n",
    "movies_30878.head()"
   ]
  },
  {
   "cell_type": "code",
   "execution_count": 116,
   "metadata": {},
   "outputs": [
    {
     "ename": "TypeError",
     "evalue": "distplot() got an unexpected keyword argument 'x'",
     "output_type": "error",
     "traceback": [
      "\u001b[0;31m---------------------------------------------------------------------------\u001b[0m",
      "\u001b[0;31mTypeError\u001b[0m                                 Traceback (most recent call last)",
      "\u001b[0;32m<ipython-input-116-ce22a40a58ac>\u001b[0m in \u001b[0;36m<module>\u001b[0;34m\u001b[0m\n\u001b[1;32m      1\u001b[0m \u001b[0;31m#Looking at the features\u001b[0m\u001b[0;34m\u001b[0m\u001b[0;34m\u001b[0m\u001b[0;34m\u001b[0m\u001b[0m\n\u001b[0;32m----> 2\u001b[0;31m \u001b[0msns\u001b[0m\u001b[0;34m.\u001b[0m\u001b[0mdistplot\u001b[0m\u001b[0;34m(\u001b[0m\u001b[0mx\u001b[0m\u001b[0;34m=\u001b[0m\u001b[0;34m'MovieID'\u001b[0m\u001b[0;34m,\u001b[0m \u001b[0my\u001b[0m\u001b[0;34m=\u001b[0m\u001b[0;34m'Rating'\u001b[0m\u001b[0;34m,\u001b[0m \u001b[0mdata\u001b[0m\u001b[0;34m=\u001b[0m\u001b[0mmovies_30878\u001b[0m\u001b[0;34m)\u001b[0m\u001b[0;34m\u001b[0m\u001b[0;34m\u001b[0m\u001b[0m\n\u001b[0m",
      "\u001b[0;31mTypeError\u001b[0m: distplot() got an unexpected keyword argument 'x'"
     ]
    }
   ],
   "source": [
    "#Looking at the features\n",
    "sns.distplot(movies_30878[['Rating']])"
   ]
  },
  {
   "cell_type": "code",
   "execution_count": 105,
   "metadata": {},
   "outputs": [],
   "source": [
    "from sklearn.model_selection import train_test_split\n",
    "from sklearn.metrics import accuracy_score\n",
    "\n",
    "target = movies_30878['Rating'].tolist()\n",
    "data = movies_30878.drop(['Rating'], axis=1)\n",
    "\n",
    "data_train_set_30878, data_test_set_30878, target_train_set_30878, target_test_set_30878 = train_test_split(data, target, test_size=0.2, random_state=42)\n"
   ]
  },
  {
   "cell_type": "code",
   "execution_count": 106,
   "metadata": {},
   "outputs": [
    {
     "name": "stderr",
     "output_type": "stream",
     "text": [
      "/usr/local/lib/python3.7/site-packages/sklearn/svm/base.py:193: FutureWarning: The default value of gamma will change from 'auto' to 'scale' in version 0.22 to account better for unscaled features. Set gamma explicitly to 'auto' or 'scale' to avoid this warning.\n",
      "  \"avoid this warning.\", FutureWarning)\n"
     ]
    },
    {
     "data": {
      "text/plain": [
       "SVC(C=1.0, cache_size=200, class_weight=None, coef0=0.0,\n",
       "    decision_function_shape='ovr', degree=3, gamma='auto_deprecated',\n",
       "    kernel='rbf', max_iter=-1, probability=False, random_state=None,\n",
       "    shrinking=True, tol=0.001, verbose=False)"
      ]
     },
     "execution_count": 106,
     "metadata": {},
     "output_type": "execute_result"
    }
   ],
   "source": [
    "from sklearn import svm\n",
    "clf = svm.SVC()\n",
    "clf.fit(data_train_set_30878, target_train_set_30878)"
   ]
  },
  {
   "cell_type": "code",
   "execution_count": 107,
   "metadata": {},
   "outputs": [
    {
     "data": {
      "text/plain": [
       "0.6071428571428571"
      ]
     },
     "execution_count": 107,
     "metadata": {},
     "output_type": "execute_result"
    }
   ],
   "source": [
    "target_predicted = clf.predict(data_test_set_30878)\n",
    "accuracy_score(target_test_set_30878, target_predicted)"
   ]
  },
  {
   "cell_type": "code",
   "execution_count": null,
   "metadata": {},
   "outputs": [],
   "source": []
  },
  {
   "cell_type": "markdown",
   "metadata": {},
   "source": [
    "No extra features = 0.67\n",
    "Only genre as dummies = 0.57\n",
    "Only budget as nummerical = 0.607\n",
    "Only runtime as nummerical = 0.607\n",
    "Only original_language as dummies = 0.607"
   ]
  }
 ],
 "metadata": {
  "kernelspec": {
   "display_name": "Python 3",
   "language": "python",
   "name": "python3"
  },
  "language_info": {
   "codemirror_mode": {
    "name": "ipython",
    "version": 3
   },
   "file_extension": ".py",
   "mimetype": "text/x-python",
   "name": "python",
   "nbconvert_exporter": "python",
   "pygments_lexer": "ipython3",
   "version": "3.7.5"
  }
 },
 "nbformat": 4,
 "nbformat_minor": 2
}
